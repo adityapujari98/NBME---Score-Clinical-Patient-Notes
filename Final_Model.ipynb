{
  "nbformat": 4,
  "nbformat_minor": 0,
  "metadata": {
    "colab": {
      "name": "Final Model.ipynb",
      "provenance": [],
      "collapsed_sections": [],
      "machine_shape": "hm"
    },
    "kernelspec": {
      "name": "python3",
      "display_name": "Python 3"
    },
    "language_info": {
      "name": "python"
    },
    "accelerator": "GPU"
  },
  "cells": [
    {
      "cell_type": "markdown",
      "source": [
        "## Mounting Drive"
      ],
      "metadata": {
        "id": "ZtTPIUBiA9eG"
      }
    },
    {
      "cell_type": "code",
      "execution_count": null,
      "metadata": {
        "colab": {
          "base_uri": "https://localhost:8080/"
        },
        "id": "JZARwYm_AksK",
        "outputId": "833a7b3c-cf3e-478d-ed81-d81344d64ad5"
      },
      "outputs": [
        {
          "output_type": "stream",
          "name": "stdout",
          "text": [
            "Drive already mounted at /content/drive; to attempt to forcibly remount, call drive.mount(\"/content/drive\", force_remount=True).\n"
          ]
        }
      ],
      "source": [
        "from google.colab import drive\n",
        "drive.mount('/content/drive')"
      ]
    },
    {
      "cell_type": "code",
      "source": [
        "import os\n",
        "ROOT = r'/content/drive/Othercomputers/My Laptop/Deep Learning/Working Code'\n",
        "os.chdir(ROOT)\n",
        "assert os.getcwd() == ROOT"
      ],
      "metadata": {
        "id": "_mDxsn7MA_w3"
      },
      "execution_count": null,
      "outputs": []
    },
    {
      "cell_type": "markdown",
      "source": [
        "## Importing Libraries"
      ],
      "metadata": {
        "id": "fKkYW3zeBUiK"
      }
    },
    {
      "cell_type": "code",
      "source": [
        "!pip install -q transformers"
      ],
      "metadata": {
        "id": "3sXqzyuPC1KH"
      },
      "execution_count": null,
      "outputs": []
    },
    {
      "cell_type": "code",
      "source": [
        "!pip install -q tensorflow-addons"
      ],
      "metadata": {
        "id": "b9KVgnkpgJoa"
      },
      "execution_count": null,
      "outputs": []
    },
    {
      "cell_type": "code",
      "source": [
        "import matplotlib.pyplot as plt\n",
        "import seaborn as sns\n",
        "import numpy as np \n",
        "import pandas as pd \n",
        "import nltk\n",
        "import spacy\n",
        "from wordcloud import WordCloud, STOPWORDS\n",
        "from transformers import AutoTokenizer, AutoConfig, TFAutoModel\n",
        "import tensorflow as tf\n",
        "from tqdm.auto import tqdm\n",
        "nlp = spacy.load(\"en_core_web_sm\")\n",
        "from typing import List, Tuple\n",
        "import keras.backend as K\n",
        "from sklearn.model_selection import train_test_split\n",
        "from sklearn.model_selection import StratifiedKFold\n",
        "import tensorflow_addons as tfa\n",
        "import random\n",
        "import warnings\n",
        "import matplotlib\n",
        "\n",
        "warnings.filterwarnings(\"ignore\")\n",
        "\n",
        "import os"
      ],
      "metadata": {
        "id": "ZqU5pp7-Bd3l"
      },
      "execution_count": null,
      "outputs": []
    },
    {
      "cell_type": "markdown",
      "source": [
        "## File paths"
      ],
      "metadata": {
        "id": "_yZNTpzHLHxB"
      }
    },
    {
      "cell_type": "code",
      "source": [
        "TRAIN_PATH = \"Dataset/train.csv\"\n",
        "TEST_PATH = \"Dataset/test.csv\"\n",
        "FEATURES_PATH = \"Dataset/features.csv\"\n",
        "PATIENT_NOTES_PATH = \"Dataset/patient_notes.csv\"\n",
        "SAMPLE_SUBMISSION_PATH = \"Dataset/sample_submission.csv\""
      ],
      "metadata": {
        "id": "WWDVKFbFBh9W"
      },
      "execution_count": null,
      "outputs": []
    },
    {
      "cell_type": "markdown",
      "source": [
        "## Assigning Model Parameters"
      ],
      "metadata": {
        "id": "j8CGXVABLQnz"
      }
    },
    {
      "cell_type": "code",
      "source": [
        "MODEL_NAME = 'microsoft/deberta-base'\n",
        "DATA_PATH = f\"../input/{MODEL_NAME}\"\n",
        "SEQUENCE_LENGTH = 512\n",
        "TOKENIZER_PATH = f'{MODEL_NAME}_tokenizer'\n",
        "BATCH_SIZE = 8\n",
        "AUTOTUNE = tf.data.AUTOTUNE\n",
        "EPOCHS = 20\n",
        "MODEL_CHECKPOINT = f\"model.h5\"\n",
        "LEARNING_RATE = 2e-5\n",
        "#1000->2000\n",
        "CLIP_NORM = 2000"
      ],
      "metadata": {
        "id": "jMt0IGWJBnb8"
      },
      "execution_count": null,
      "outputs": []
    },
    {
      "cell_type": "markdown",
      "source": [
        "## Setting Seed for training environment"
      ],
      "metadata": {
        "id": "cMKdbYl7LWmE"
      }
    },
    {
      "cell_type": "code",
      "source": [
        "def seed_everything(seed):\n",
        "    os.environ['PYTHONHASHSEED'] = str(seed)\n",
        "    random.seed(seed)\n",
        "    np.random.seed(seed)\n",
        "    tf.random.set_seed(seed)\n",
        "#42->0\n",
        "SEED = 0\n",
        "seed_everything(SEED)"
      ],
      "metadata": {
        "id": "z1Mf7e2_hJ1i"
      },
      "execution_count": null,
      "outputs": []
    },
    {
      "cell_type": "markdown",
      "source": [
        "## Loading and Displaying Features Dataset"
      ],
      "metadata": {
        "id": "vFiv-azsLbn1"
      }
    },
    {
      "cell_type": "code",
      "source": [
        "features_df = pd.read_csv(FEATURES_PATH)\n",
        "print(f\"Number of rows in features dataframe {len(features_df)}\")\n",
        "features_df.head()"
      ],
      "metadata": {
        "colab": {
          "base_uri": "https://localhost:8080/",
          "height": 224
        },
        "id": "2piyqwXUharB",
        "outputId": "8c321cbc-29c1-4d68-a445-55bb33298583"
      },
      "execution_count": null,
      "outputs": [
        {
          "output_type": "stream",
          "name": "stdout",
          "text": [
            "Number of rows in features dataframe 143\n"
          ]
        },
        {
          "output_type": "execute_result",
          "data": {
            "text/plain": [
              "   feature_num  case_num                                       feature_text\n",
              "0            0         0  Family-history-of-MI-OR-Family-history-of-myoc...\n",
              "1            1         0                 Family-history-of-thyroid-disorder\n",
              "2            2         0                                     Chest-pressure\n",
              "3            3         0                              Intermittent-symptoms\n",
              "4            4         0                                        Lightheaded"
            ],
            "text/html": [
              "\n",
              "  <div id=\"df-6ba8cf5a-0a4d-4128-b297-5190f7f42628\">\n",
              "    <div class=\"colab-df-container\">\n",
              "      <div>\n",
              "<style scoped>\n",
              "    .dataframe tbody tr th:only-of-type {\n",
              "        vertical-align: middle;\n",
              "    }\n",
              "\n",
              "    .dataframe tbody tr th {\n",
              "        vertical-align: top;\n",
              "    }\n",
              "\n",
              "    .dataframe thead th {\n",
              "        text-align: right;\n",
              "    }\n",
              "</style>\n",
              "<table border=\"1\" class=\"dataframe\">\n",
              "  <thead>\n",
              "    <tr style=\"text-align: right;\">\n",
              "      <th></th>\n",
              "      <th>feature_num</th>\n",
              "      <th>case_num</th>\n",
              "      <th>feature_text</th>\n",
              "    </tr>\n",
              "  </thead>\n",
              "  <tbody>\n",
              "    <tr>\n",
              "      <th>0</th>\n",
              "      <td>0</td>\n",
              "      <td>0</td>\n",
              "      <td>Family-history-of-MI-OR-Family-history-of-myoc...</td>\n",
              "    </tr>\n",
              "    <tr>\n",
              "      <th>1</th>\n",
              "      <td>1</td>\n",
              "      <td>0</td>\n",
              "      <td>Family-history-of-thyroid-disorder</td>\n",
              "    </tr>\n",
              "    <tr>\n",
              "      <th>2</th>\n",
              "      <td>2</td>\n",
              "      <td>0</td>\n",
              "      <td>Chest-pressure</td>\n",
              "    </tr>\n",
              "    <tr>\n",
              "      <th>3</th>\n",
              "      <td>3</td>\n",
              "      <td>0</td>\n",
              "      <td>Intermittent-symptoms</td>\n",
              "    </tr>\n",
              "    <tr>\n",
              "      <th>4</th>\n",
              "      <td>4</td>\n",
              "      <td>0</td>\n",
              "      <td>Lightheaded</td>\n",
              "    </tr>\n",
              "  </tbody>\n",
              "</table>\n",
              "</div>\n",
              "      <button class=\"colab-df-convert\" onclick=\"convertToInteractive('df-6ba8cf5a-0a4d-4128-b297-5190f7f42628')\"\n",
              "              title=\"Convert this dataframe to an interactive table.\"\n",
              "              style=\"display:none;\">\n",
              "        \n",
              "  <svg xmlns=\"http://www.w3.org/2000/svg\" height=\"24px\"viewBox=\"0 0 24 24\"\n",
              "       width=\"24px\">\n",
              "    <path d=\"M0 0h24v24H0V0z\" fill=\"none\"/>\n",
              "    <path d=\"M18.56 5.44l.94 2.06.94-2.06 2.06-.94-2.06-.94-.94-2.06-.94 2.06-2.06.94zm-11 1L8.5 8.5l.94-2.06 2.06-.94-2.06-.94L8.5 2.5l-.94 2.06-2.06.94zm10 10l.94 2.06.94-2.06 2.06-.94-2.06-.94-.94-2.06-.94 2.06-2.06.94z\"/><path d=\"M17.41 7.96l-1.37-1.37c-.4-.4-.92-.59-1.43-.59-.52 0-1.04.2-1.43.59L10.3 9.45l-7.72 7.72c-.78.78-.78 2.05 0 2.83L4 21.41c.39.39.9.59 1.41.59.51 0 1.02-.2 1.41-.59l7.78-7.78 2.81-2.81c.8-.78.8-2.07 0-2.86zM5.41 20L4 18.59l7.72-7.72 1.47 1.35L5.41 20z\"/>\n",
              "  </svg>\n",
              "      </button>\n",
              "      \n",
              "  <style>\n",
              "    .colab-df-container {\n",
              "      display:flex;\n",
              "      flex-wrap:wrap;\n",
              "      gap: 12px;\n",
              "    }\n",
              "\n",
              "    .colab-df-convert {\n",
              "      background-color: #E8F0FE;\n",
              "      border: none;\n",
              "      border-radius: 50%;\n",
              "      cursor: pointer;\n",
              "      display: none;\n",
              "      fill: #1967D2;\n",
              "      height: 32px;\n",
              "      padding: 0 0 0 0;\n",
              "      width: 32px;\n",
              "    }\n",
              "\n",
              "    .colab-df-convert:hover {\n",
              "      background-color: #E2EBFA;\n",
              "      box-shadow: 0px 1px 2px rgba(60, 64, 67, 0.3), 0px 1px 3px 1px rgba(60, 64, 67, 0.15);\n",
              "      fill: #174EA6;\n",
              "    }\n",
              "\n",
              "    [theme=dark] .colab-df-convert {\n",
              "      background-color: #3B4455;\n",
              "      fill: #D2E3FC;\n",
              "    }\n",
              "\n",
              "    [theme=dark] .colab-df-convert:hover {\n",
              "      background-color: #434B5C;\n",
              "      box-shadow: 0px 1px 3px 1px rgba(0, 0, 0, 0.15);\n",
              "      filter: drop-shadow(0px 1px 2px rgba(0, 0, 0, 0.3));\n",
              "      fill: #FFFFFF;\n",
              "    }\n",
              "  </style>\n",
              "\n",
              "      <script>\n",
              "        const buttonEl =\n",
              "          document.querySelector('#df-6ba8cf5a-0a4d-4128-b297-5190f7f42628 button.colab-df-convert');\n",
              "        buttonEl.style.display =\n",
              "          google.colab.kernel.accessAllowed ? 'block' : 'none';\n",
              "\n",
              "        async function convertToInteractive(key) {\n",
              "          const element = document.querySelector('#df-6ba8cf5a-0a4d-4128-b297-5190f7f42628');\n",
              "          const dataTable =\n",
              "            await google.colab.kernel.invokeFunction('convertToInteractive',\n",
              "                                                     [key], {});\n",
              "          if (!dataTable) return;\n",
              "\n",
              "          const docLinkHtml = 'Like what you see? Visit the ' +\n",
              "            '<a target=\"_blank\" href=https://colab.research.google.com/notebooks/data_table.ipynb>data table notebook</a>'\n",
              "            + ' to learn more about interactive tables.';\n",
              "          element.innerHTML = '';\n",
              "          dataTable['output_type'] = 'display_data';\n",
              "          await google.colab.output.renderOutput(dataTable, element);\n",
              "          const docLink = document.createElement('div');\n",
              "          docLink.innerHTML = docLinkHtml;\n",
              "          element.appendChild(docLink);\n",
              "        }\n",
              "      </script>\n",
              "    </div>\n",
              "  </div>\n",
              "  "
            ]
          },
          "metadata": {},
          "execution_count": 9
        }
      ]
    },
    {
      "cell_type": "markdown",
      "source": [
        "## Loading and Displaying Patients Dataset"
      ],
      "metadata": {
        "id": "vC-zU2_dLlxZ"
      }
    },
    {
      "cell_type": "code",
      "source": [
        "patient_notes_df = pd.read_csv(PATIENT_NOTES_PATH)\n",
        "print(f\"Number of rows in patient notes dataframe {len(patient_notes_df)}\")\n",
        "patient_notes_df.head()"
      ],
      "metadata": {
        "colab": {
          "base_uri": "https://localhost:8080/",
          "height": 224
        },
        "id": "mDy7YBgnhiKy",
        "outputId": "163ad91b-8034-4e02-c874-899dae89aac2"
      },
      "execution_count": null,
      "outputs": [
        {
          "output_type": "stream",
          "name": "stdout",
          "text": [
            "Number of rows in patient notes dataframe 42146\n"
          ]
        },
        {
          "output_type": "execute_result",
          "data": {
            "text/plain": [
              "   pn_num  case_num                                         pn_history\n",
              "0       0         0  17-year-old male, has come to the student heal...\n",
              "1       1         0  17 yo male with recurrent palpitations for the...\n",
              "2       2         0  Dillon Cleveland is a 17 y.o. male patient wit...\n",
              "3       3         0  a 17 yo m c/o palpitation started 3 mos ago; \\...\n",
              "4       4         0  17yo male with no pmh here for evaluation of p..."
            ],
            "text/html": [
              "\n",
              "  <div id=\"df-ee3ae701-1a5f-4f21-9a51-e4a24886ec37\">\n",
              "    <div class=\"colab-df-container\">\n",
              "      <div>\n",
              "<style scoped>\n",
              "    .dataframe tbody tr th:only-of-type {\n",
              "        vertical-align: middle;\n",
              "    }\n",
              "\n",
              "    .dataframe tbody tr th {\n",
              "        vertical-align: top;\n",
              "    }\n",
              "\n",
              "    .dataframe thead th {\n",
              "        text-align: right;\n",
              "    }\n",
              "</style>\n",
              "<table border=\"1\" class=\"dataframe\">\n",
              "  <thead>\n",
              "    <tr style=\"text-align: right;\">\n",
              "      <th></th>\n",
              "      <th>pn_num</th>\n",
              "      <th>case_num</th>\n",
              "      <th>pn_history</th>\n",
              "    </tr>\n",
              "  </thead>\n",
              "  <tbody>\n",
              "    <tr>\n",
              "      <th>0</th>\n",
              "      <td>0</td>\n",
              "      <td>0</td>\n",
              "      <td>17-year-old male, has come to the student heal...</td>\n",
              "    </tr>\n",
              "    <tr>\n",
              "      <th>1</th>\n",
              "      <td>1</td>\n",
              "      <td>0</td>\n",
              "      <td>17 yo male with recurrent palpitations for the...</td>\n",
              "    </tr>\n",
              "    <tr>\n",
              "      <th>2</th>\n",
              "      <td>2</td>\n",
              "      <td>0</td>\n",
              "      <td>Dillon Cleveland is a 17 y.o. male patient wit...</td>\n",
              "    </tr>\n",
              "    <tr>\n",
              "      <th>3</th>\n",
              "      <td>3</td>\n",
              "      <td>0</td>\n",
              "      <td>a 17 yo m c/o palpitation started 3 mos ago; \\...</td>\n",
              "    </tr>\n",
              "    <tr>\n",
              "      <th>4</th>\n",
              "      <td>4</td>\n",
              "      <td>0</td>\n",
              "      <td>17yo male with no pmh here for evaluation of p...</td>\n",
              "    </tr>\n",
              "  </tbody>\n",
              "</table>\n",
              "</div>\n",
              "      <button class=\"colab-df-convert\" onclick=\"convertToInteractive('df-ee3ae701-1a5f-4f21-9a51-e4a24886ec37')\"\n",
              "              title=\"Convert this dataframe to an interactive table.\"\n",
              "              style=\"display:none;\">\n",
              "        \n",
              "  <svg xmlns=\"http://www.w3.org/2000/svg\" height=\"24px\"viewBox=\"0 0 24 24\"\n",
              "       width=\"24px\">\n",
              "    <path d=\"M0 0h24v24H0V0z\" fill=\"none\"/>\n",
              "    <path d=\"M18.56 5.44l.94 2.06.94-2.06 2.06-.94-2.06-.94-.94-2.06-.94 2.06-2.06.94zm-11 1L8.5 8.5l.94-2.06 2.06-.94-2.06-.94L8.5 2.5l-.94 2.06-2.06.94zm10 10l.94 2.06.94-2.06 2.06-.94-2.06-.94-.94-2.06-.94 2.06-2.06.94z\"/><path d=\"M17.41 7.96l-1.37-1.37c-.4-.4-.92-.59-1.43-.59-.52 0-1.04.2-1.43.59L10.3 9.45l-7.72 7.72c-.78.78-.78 2.05 0 2.83L4 21.41c.39.39.9.59 1.41.59.51 0 1.02-.2 1.41-.59l7.78-7.78 2.81-2.81c.8-.78.8-2.07 0-2.86zM5.41 20L4 18.59l7.72-7.72 1.47 1.35L5.41 20z\"/>\n",
              "  </svg>\n",
              "      </button>\n",
              "      \n",
              "  <style>\n",
              "    .colab-df-container {\n",
              "      display:flex;\n",
              "      flex-wrap:wrap;\n",
              "      gap: 12px;\n",
              "    }\n",
              "\n",
              "    .colab-df-convert {\n",
              "      background-color: #E8F0FE;\n",
              "      border: none;\n",
              "      border-radius: 50%;\n",
              "      cursor: pointer;\n",
              "      display: none;\n",
              "      fill: #1967D2;\n",
              "      height: 32px;\n",
              "      padding: 0 0 0 0;\n",
              "      width: 32px;\n",
              "    }\n",
              "\n",
              "    .colab-df-convert:hover {\n",
              "      background-color: #E2EBFA;\n",
              "      box-shadow: 0px 1px 2px rgba(60, 64, 67, 0.3), 0px 1px 3px 1px rgba(60, 64, 67, 0.15);\n",
              "      fill: #174EA6;\n",
              "    }\n",
              "\n",
              "    [theme=dark] .colab-df-convert {\n",
              "      background-color: #3B4455;\n",
              "      fill: #D2E3FC;\n",
              "    }\n",
              "\n",
              "    [theme=dark] .colab-df-convert:hover {\n",
              "      background-color: #434B5C;\n",
              "      box-shadow: 0px 1px 3px 1px rgba(0, 0, 0, 0.15);\n",
              "      filter: drop-shadow(0px 1px 2px rgba(0, 0, 0, 0.3));\n",
              "      fill: #FFFFFF;\n",
              "    }\n",
              "  </style>\n",
              "\n",
              "      <script>\n",
              "        const buttonEl =\n",
              "          document.querySelector('#df-ee3ae701-1a5f-4f21-9a51-e4a24886ec37 button.colab-df-convert');\n",
              "        buttonEl.style.display =\n",
              "          google.colab.kernel.accessAllowed ? 'block' : 'none';\n",
              "\n",
              "        async function convertToInteractive(key) {\n",
              "          const element = document.querySelector('#df-ee3ae701-1a5f-4f21-9a51-e4a24886ec37');\n",
              "          const dataTable =\n",
              "            await google.colab.kernel.invokeFunction('convertToInteractive',\n",
              "                                                     [key], {});\n",
              "          if (!dataTable) return;\n",
              "\n",
              "          const docLinkHtml = 'Like what you see? Visit the ' +\n",
              "            '<a target=\"_blank\" href=https://colab.research.google.com/notebooks/data_table.ipynb>data table notebook</a>'\n",
              "            + ' to learn more about interactive tables.';\n",
              "          element.innerHTML = '';\n",
              "          dataTable['output_type'] = 'display_data';\n",
              "          await google.colab.output.renderOutput(dataTable, element);\n",
              "          const docLink = document.createElement('div');\n",
              "          docLink.innerHTML = docLinkHtml;\n",
              "          element.appendChild(docLink);\n",
              "        }\n",
              "      </script>\n",
              "    </div>\n",
              "  </div>\n",
              "  "
            ]
          },
          "metadata": {},
          "execution_count": 10
        }
      ]
    },
    {
      "cell_type": "markdown",
      "source": [
        "## Loading and Displaying Train Dataset"
      ],
      "metadata": {
        "id": "RHoC2jVbLpOO"
      }
    },
    {
      "cell_type": "code",
      "source": [
        "train_df = pd.read_csv(TRAIN_PATH)\n",
        "print(f\"Number of rows train dataframe {len(train_df)}\")\n",
        "train_df.head()"
      ],
      "metadata": {
        "colab": {
          "base_uri": "https://localhost:8080/",
          "height": 224
        },
        "id": "VdSqnuXEhkEO",
        "outputId": "c7ec9413-30e2-451c-8ad2-8f0c676f890a"
      },
      "execution_count": null,
      "outputs": [
        {
          "output_type": "stream",
          "name": "stdout",
          "text": [
            "Number of rows train dataframe 14300\n"
          ]
        },
        {
          "output_type": "execute_result",
          "data": {
            "text/plain": [
              "          id  case_num  pn_num  feature_num  \\\n",
              "0  00016_000         0      16            0   \n",
              "1  00016_001         0      16            1   \n",
              "2  00016_002         0      16            2   \n",
              "3  00016_003         0      16            3   \n",
              "4  00016_004         0      16            4   \n",
              "\n",
              "                                 annotation              location  \n",
              "0          ['dad with recent heart attcak']           ['696 724']  \n",
              "1             ['mom with \"thyroid disease']           ['668 693']  \n",
              "2                        ['chest pressure']           ['203 217']  \n",
              "3      ['intermittent episodes', 'episode']  ['70 91', '176 183']  \n",
              "4  ['felt as if he were going to pass out']           ['222 258']  "
            ],
            "text/html": [
              "\n",
              "  <div id=\"df-ddb064c6-7a65-47ec-89d1-2e9c11caa201\">\n",
              "    <div class=\"colab-df-container\">\n",
              "      <div>\n",
              "<style scoped>\n",
              "    .dataframe tbody tr th:only-of-type {\n",
              "        vertical-align: middle;\n",
              "    }\n",
              "\n",
              "    .dataframe tbody tr th {\n",
              "        vertical-align: top;\n",
              "    }\n",
              "\n",
              "    .dataframe thead th {\n",
              "        text-align: right;\n",
              "    }\n",
              "</style>\n",
              "<table border=\"1\" class=\"dataframe\">\n",
              "  <thead>\n",
              "    <tr style=\"text-align: right;\">\n",
              "      <th></th>\n",
              "      <th>id</th>\n",
              "      <th>case_num</th>\n",
              "      <th>pn_num</th>\n",
              "      <th>feature_num</th>\n",
              "      <th>annotation</th>\n",
              "      <th>location</th>\n",
              "    </tr>\n",
              "  </thead>\n",
              "  <tbody>\n",
              "    <tr>\n",
              "      <th>0</th>\n",
              "      <td>00016_000</td>\n",
              "      <td>0</td>\n",
              "      <td>16</td>\n",
              "      <td>0</td>\n",
              "      <td>['dad with recent heart attcak']</td>\n",
              "      <td>['696 724']</td>\n",
              "    </tr>\n",
              "    <tr>\n",
              "      <th>1</th>\n",
              "      <td>00016_001</td>\n",
              "      <td>0</td>\n",
              "      <td>16</td>\n",
              "      <td>1</td>\n",
              "      <td>['mom with \"thyroid disease']</td>\n",
              "      <td>['668 693']</td>\n",
              "    </tr>\n",
              "    <tr>\n",
              "      <th>2</th>\n",
              "      <td>00016_002</td>\n",
              "      <td>0</td>\n",
              "      <td>16</td>\n",
              "      <td>2</td>\n",
              "      <td>['chest pressure']</td>\n",
              "      <td>['203 217']</td>\n",
              "    </tr>\n",
              "    <tr>\n",
              "      <th>3</th>\n",
              "      <td>00016_003</td>\n",
              "      <td>0</td>\n",
              "      <td>16</td>\n",
              "      <td>3</td>\n",
              "      <td>['intermittent episodes', 'episode']</td>\n",
              "      <td>['70 91', '176 183']</td>\n",
              "    </tr>\n",
              "    <tr>\n",
              "      <th>4</th>\n",
              "      <td>00016_004</td>\n",
              "      <td>0</td>\n",
              "      <td>16</td>\n",
              "      <td>4</td>\n",
              "      <td>['felt as if he were going to pass out']</td>\n",
              "      <td>['222 258']</td>\n",
              "    </tr>\n",
              "  </tbody>\n",
              "</table>\n",
              "</div>\n",
              "      <button class=\"colab-df-convert\" onclick=\"convertToInteractive('df-ddb064c6-7a65-47ec-89d1-2e9c11caa201')\"\n",
              "              title=\"Convert this dataframe to an interactive table.\"\n",
              "              style=\"display:none;\">\n",
              "        \n",
              "  <svg xmlns=\"http://www.w3.org/2000/svg\" height=\"24px\"viewBox=\"0 0 24 24\"\n",
              "       width=\"24px\">\n",
              "    <path d=\"M0 0h24v24H0V0z\" fill=\"none\"/>\n",
              "    <path d=\"M18.56 5.44l.94 2.06.94-2.06 2.06-.94-2.06-.94-.94-2.06-.94 2.06-2.06.94zm-11 1L8.5 8.5l.94-2.06 2.06-.94-2.06-.94L8.5 2.5l-.94 2.06-2.06.94zm10 10l.94 2.06.94-2.06 2.06-.94-2.06-.94-.94-2.06-.94 2.06-2.06.94z\"/><path d=\"M17.41 7.96l-1.37-1.37c-.4-.4-.92-.59-1.43-.59-.52 0-1.04.2-1.43.59L10.3 9.45l-7.72 7.72c-.78.78-.78 2.05 0 2.83L4 21.41c.39.39.9.59 1.41.59.51 0 1.02-.2 1.41-.59l7.78-7.78 2.81-2.81c.8-.78.8-2.07 0-2.86zM5.41 20L4 18.59l7.72-7.72 1.47 1.35L5.41 20z\"/>\n",
              "  </svg>\n",
              "      </button>\n",
              "      \n",
              "  <style>\n",
              "    .colab-df-container {\n",
              "      display:flex;\n",
              "      flex-wrap:wrap;\n",
              "      gap: 12px;\n",
              "    }\n",
              "\n",
              "    .colab-df-convert {\n",
              "      background-color: #E8F0FE;\n",
              "      border: none;\n",
              "      border-radius: 50%;\n",
              "      cursor: pointer;\n",
              "      display: none;\n",
              "      fill: #1967D2;\n",
              "      height: 32px;\n",
              "      padding: 0 0 0 0;\n",
              "      width: 32px;\n",
              "    }\n",
              "\n",
              "    .colab-df-convert:hover {\n",
              "      background-color: #E2EBFA;\n",
              "      box-shadow: 0px 1px 2px rgba(60, 64, 67, 0.3), 0px 1px 3px 1px rgba(60, 64, 67, 0.15);\n",
              "      fill: #174EA6;\n",
              "    }\n",
              "\n",
              "    [theme=dark] .colab-df-convert {\n",
              "      background-color: #3B4455;\n",
              "      fill: #D2E3FC;\n",
              "    }\n",
              "\n",
              "    [theme=dark] .colab-df-convert:hover {\n",
              "      background-color: #434B5C;\n",
              "      box-shadow: 0px 1px 3px 1px rgba(0, 0, 0, 0.15);\n",
              "      filter: drop-shadow(0px 1px 2px rgba(0, 0, 0, 0.3));\n",
              "      fill: #FFFFFF;\n",
              "    }\n",
              "  </style>\n",
              "\n",
              "      <script>\n",
              "        const buttonEl =\n",
              "          document.querySelector('#df-ddb064c6-7a65-47ec-89d1-2e9c11caa201 button.colab-df-convert');\n",
              "        buttonEl.style.display =\n",
              "          google.colab.kernel.accessAllowed ? 'block' : 'none';\n",
              "\n",
              "        async function convertToInteractive(key) {\n",
              "          const element = document.querySelector('#df-ddb064c6-7a65-47ec-89d1-2e9c11caa201');\n",
              "          const dataTable =\n",
              "            await google.colab.kernel.invokeFunction('convertToInteractive',\n",
              "                                                     [key], {});\n",
              "          if (!dataTable) return;\n",
              "\n",
              "          const docLinkHtml = 'Like what you see? Visit the ' +\n",
              "            '<a target=\"_blank\" href=https://colab.research.google.com/notebooks/data_table.ipynb>data table notebook</a>'\n",
              "            + ' to learn more about interactive tables.';\n",
              "          element.innerHTML = '';\n",
              "          dataTable['output_type'] = 'display_data';\n",
              "          await google.colab.output.renderOutput(dataTable, element);\n",
              "          const docLink = document.createElement('div');\n",
              "          docLink.innerHTML = docLinkHtml;\n",
              "          element.appendChild(docLink);\n",
              "        }\n",
              "      </script>\n",
              "    </div>\n",
              "  </div>\n",
              "  "
            ]
          },
          "metadata": {},
          "execution_count": 11
        }
      ]
    },
    {
      "cell_type": "markdown",
      "source": [
        "## Loading Auto Tokenizer from pretrained model"
      ],
      "metadata": {
        "id": "Sd8VZNNCL5b8"
      }
    },
    {
      "cell_type": "code",
      "source": [
        "tokenizer = AutoTokenizer.from_pretrained(MODEL_NAME)\n",
        "tokenizer.save_pretrained(f'{TOKENIZER_PATH}')\n",
        "\n",
        "config = AutoConfig.from_pretrained(MODEL_NAME)\n",
        "config.save_pretrained(f'{TOKENIZER_PATH}')"
      ],
      "metadata": {
        "id": "uSaUjm15fOTR"
      },
      "execution_count": null,
      "outputs": []
    },
    {
      "cell_type": "markdown",
      "source": [
        "## Creating Model"
      ],
      "metadata": {
        "id": "XzAtVpAtMC_x"
      }
    },
    {
      "cell_type": "code",
      "source": [
        "def create_model() -> tf.keras.Model:\n",
        "    input_tokens = tf.keras.layers.Input(shape=(SEQUENCE_LENGTH,), dtype=tf.int32)\n",
        "    attention_mask = tf.keras.layers.Input(shape=(SEQUENCE_LENGTH,), dtype=tf.int32)\n",
        "\n",
        "    config = AutoConfig.from_pretrained(MODEL_NAME, output_hidden_states=True)\n",
        "    backbone = TFAutoModel.from_pretrained(MODEL_NAME, config=config)\n",
        "\n",
        "    out = backbone(input_tokens, attention_mask=attention_mask)[0]\n",
        "    out = tf.keras.layers.Dropout(0.2)(out)\n",
        "    out = tf.keras.layers.Dense(256, activation='sigmoid')(out)\n",
        "    out = tf.keras.layers.Dense(1, activation='sigmoid')(out)\n",
        "\n",
        "    return tf.keras.Model(inputs=[input_tokens, attention_mask], outputs=out)"
      ],
      "metadata": {
        "id": "xlv-DLu8fQRa"
      },
      "execution_count": null,
      "outputs": []
    },
    {
      "cell_type": "code",
      "source": [
        "model = create_model()\n",
        "model.summary()"
      ],
      "metadata": {
        "colab": {
          "base_uri": "https://localhost:8080/"
        },
        "id": "NhV_0j9UfRpP",
        "outputId": "5997eda3-3364-4d86-9fe7-9e1e0eafb516"
      },
      "execution_count": null,
      "outputs": [
        {
          "output_type": "stream",
          "name": "stderr",
          "text": [
            "All model checkpoint layers were used when initializing TFDebertaModel.\n",
            "\n",
            "All the layers of TFDebertaModel were initialized from the model checkpoint at microsoft/deberta-base.\n",
            "If your task is similar to the task the model of the checkpoint was trained on, you can already use TFDebertaModel for predictions without further training.\n"
          ]
        },
        {
          "output_type": "stream",
          "name": "stdout",
          "text": [
            "Model: \"model\"\n",
            "__________________________________________________________________________________________________\n",
            " Layer (type)                   Output Shape         Param #     Connected to                     \n",
            "==================================================================================================\n",
            " input_1 (InputLayer)           [(None, 512)]        0           []                               \n",
            "                                                                                                  \n",
            " input_2 (InputLayer)           [(None, 512)]        0           []                               \n",
            "                                                                                                  \n",
            " tf_deberta_model (TFDebertaMod  TFBaseModelOutput(l  138601728  ['input_1[0][0]',                \n",
            " el)                            ast_hidden_state=(N               'input_2[0][0]']                \n",
            "                                one, 512, 768),                                                   \n",
            "                                 hidden_states=((No                                               \n",
            "                                ne, 512, 768),                                                    \n",
            "                                 (None, 512, 768),                                                \n",
            "                                 (None, 512, 768),                                                \n",
            "                                 (None, 512, 768),                                                \n",
            "                                 (None, 512, 768),                                                \n",
            "                                 (None, 512, 768),                                                \n",
            "                                 (None, 512, 768),                                                \n",
            "                                 (None, 512, 768),                                                \n",
            "                                 (None, 512, 768),                                                \n",
            "                                 (None, 512, 768),                                                \n",
            "                                 (None, 512, 768),                                                \n",
            "                                 (None, 512, 768),                                                \n",
            "                                 (None, 512, 768)),                                               \n",
            "                                 attentions=None)                                                 \n",
            "                                                                                                  \n",
            " dropout (Dropout)              (None, 512, 768)     0           ['tf_deberta_model[0][13]']      \n",
            "                                                                                                  \n",
            " dense (Dense)                  (None, 512, 256)     196864      ['dropout[0][0]']                \n",
            "                                                                                                  \n",
            " dense_1 (Dense)                (None, 512, 1)       257         ['dense[0][0]']                  \n",
            "                                                                                                  \n",
            "==================================================================================================\n",
            "Total params: 138,798,849\n",
            "Trainable params: 138,798,849\n",
            "Non-trainable params: 0\n",
            "__________________________________________________________________________________________________\n"
          ]
        }
      ]
    },
    {
      "cell_type": "markdown",
      "source": [
        "## Merging different datasets to create Train dataframe"
      ],
      "metadata": {
        "id": "53JlbRpDMFf4"
      }
    },
    {
      "cell_type": "code",
      "source": [
        "train = train_df.merge(features_df, on=['feature_num', 'case_num'], how='left')\n",
        "train = train.merge(patient_notes_df, on=['pn_num', 'case_num'], how='left')\n",
        "train['annotation_length'] = train['annotation'].apply(len)\n",
        "\n",
        "train.head()"
      ],
      "metadata": {
        "colab": {
          "base_uri": "https://localhost:8080/",
          "height": 337
        },
        "id": "ssU0FTXqfTmH",
        "outputId": "cf373feb-3597-4a1f-9be5-d1d666abbbf4"
      },
      "execution_count": null,
      "outputs": [
        {
          "output_type": "execute_result",
          "data": {
            "text/plain": [
              "          id  case_num  pn_num  feature_num  \\\n",
              "0  00016_000         0      16            0   \n",
              "1  00016_001         0      16            1   \n",
              "2  00016_002         0      16            2   \n",
              "3  00016_003         0      16            3   \n",
              "4  00016_004         0      16            4   \n",
              "\n",
              "                                 annotation              location  \\\n",
              "0          ['dad with recent heart attcak']           ['696 724']   \n",
              "1             ['mom with \"thyroid disease']           ['668 693']   \n",
              "2                        ['chest pressure']           ['203 217']   \n",
              "3      ['intermittent episodes', 'episode']  ['70 91', '176 183']   \n",
              "4  ['felt as if he were going to pass out']           ['222 258']   \n",
              "\n",
              "                                        feature_text  \\\n",
              "0  Family-history-of-MI-OR-Family-history-of-myoc...   \n",
              "1                 Family-history-of-thyroid-disorder   \n",
              "2                                     Chest-pressure   \n",
              "3                              Intermittent-symptoms   \n",
              "4                                        Lightheaded   \n",
              "\n",
              "                                          pn_history  annotation_length  \n",
              "0  HPI: 17yo M presents with palpitations. Patien...                 32  \n",
              "1  HPI: 17yo M presents with palpitations. Patien...                 29  \n",
              "2  HPI: 17yo M presents with palpitations. Patien...                 18  \n",
              "3  HPI: 17yo M presents with palpitations. Patien...                 36  \n",
              "4  HPI: 17yo M presents with palpitations. Patien...                 40  "
            ],
            "text/html": [
              "\n",
              "  <div id=\"df-1a2f3128-cf13-44a3-9286-52879895203d\">\n",
              "    <div class=\"colab-df-container\">\n",
              "      <div>\n",
              "<style scoped>\n",
              "    .dataframe tbody tr th:only-of-type {\n",
              "        vertical-align: middle;\n",
              "    }\n",
              "\n",
              "    .dataframe tbody tr th {\n",
              "        vertical-align: top;\n",
              "    }\n",
              "\n",
              "    .dataframe thead th {\n",
              "        text-align: right;\n",
              "    }\n",
              "</style>\n",
              "<table border=\"1\" class=\"dataframe\">\n",
              "  <thead>\n",
              "    <tr style=\"text-align: right;\">\n",
              "      <th></th>\n",
              "      <th>id</th>\n",
              "      <th>case_num</th>\n",
              "      <th>pn_num</th>\n",
              "      <th>feature_num</th>\n",
              "      <th>annotation</th>\n",
              "      <th>location</th>\n",
              "      <th>feature_text</th>\n",
              "      <th>pn_history</th>\n",
              "      <th>annotation_length</th>\n",
              "    </tr>\n",
              "  </thead>\n",
              "  <tbody>\n",
              "    <tr>\n",
              "      <th>0</th>\n",
              "      <td>00016_000</td>\n",
              "      <td>0</td>\n",
              "      <td>16</td>\n",
              "      <td>0</td>\n",
              "      <td>['dad with recent heart attcak']</td>\n",
              "      <td>['696 724']</td>\n",
              "      <td>Family-history-of-MI-OR-Family-history-of-myoc...</td>\n",
              "      <td>HPI: 17yo M presents with palpitations. Patien...</td>\n",
              "      <td>32</td>\n",
              "    </tr>\n",
              "    <tr>\n",
              "      <th>1</th>\n",
              "      <td>00016_001</td>\n",
              "      <td>0</td>\n",
              "      <td>16</td>\n",
              "      <td>1</td>\n",
              "      <td>['mom with \"thyroid disease']</td>\n",
              "      <td>['668 693']</td>\n",
              "      <td>Family-history-of-thyroid-disorder</td>\n",
              "      <td>HPI: 17yo M presents with palpitations. Patien...</td>\n",
              "      <td>29</td>\n",
              "    </tr>\n",
              "    <tr>\n",
              "      <th>2</th>\n",
              "      <td>00016_002</td>\n",
              "      <td>0</td>\n",
              "      <td>16</td>\n",
              "      <td>2</td>\n",
              "      <td>['chest pressure']</td>\n",
              "      <td>['203 217']</td>\n",
              "      <td>Chest-pressure</td>\n",
              "      <td>HPI: 17yo M presents with palpitations. Patien...</td>\n",
              "      <td>18</td>\n",
              "    </tr>\n",
              "    <tr>\n",
              "      <th>3</th>\n",
              "      <td>00016_003</td>\n",
              "      <td>0</td>\n",
              "      <td>16</td>\n",
              "      <td>3</td>\n",
              "      <td>['intermittent episodes', 'episode']</td>\n",
              "      <td>['70 91', '176 183']</td>\n",
              "      <td>Intermittent-symptoms</td>\n",
              "      <td>HPI: 17yo M presents with palpitations. Patien...</td>\n",
              "      <td>36</td>\n",
              "    </tr>\n",
              "    <tr>\n",
              "      <th>4</th>\n",
              "      <td>00016_004</td>\n",
              "      <td>0</td>\n",
              "      <td>16</td>\n",
              "      <td>4</td>\n",
              "      <td>['felt as if he were going to pass out']</td>\n",
              "      <td>['222 258']</td>\n",
              "      <td>Lightheaded</td>\n",
              "      <td>HPI: 17yo M presents with palpitations. Patien...</td>\n",
              "      <td>40</td>\n",
              "    </tr>\n",
              "  </tbody>\n",
              "</table>\n",
              "</div>\n",
              "      <button class=\"colab-df-convert\" onclick=\"convertToInteractive('df-1a2f3128-cf13-44a3-9286-52879895203d')\"\n",
              "              title=\"Convert this dataframe to an interactive table.\"\n",
              "              style=\"display:none;\">\n",
              "        \n",
              "  <svg xmlns=\"http://www.w3.org/2000/svg\" height=\"24px\"viewBox=\"0 0 24 24\"\n",
              "       width=\"24px\">\n",
              "    <path d=\"M0 0h24v24H0V0z\" fill=\"none\"/>\n",
              "    <path d=\"M18.56 5.44l.94 2.06.94-2.06 2.06-.94-2.06-.94-.94-2.06-.94 2.06-2.06.94zm-11 1L8.5 8.5l.94-2.06 2.06-.94-2.06-.94L8.5 2.5l-.94 2.06-2.06.94zm10 10l.94 2.06.94-2.06 2.06-.94-2.06-.94-.94-2.06-.94 2.06-2.06.94z\"/><path d=\"M17.41 7.96l-1.37-1.37c-.4-.4-.92-.59-1.43-.59-.52 0-1.04.2-1.43.59L10.3 9.45l-7.72 7.72c-.78.78-.78 2.05 0 2.83L4 21.41c.39.39.9.59 1.41.59.51 0 1.02-.2 1.41-.59l7.78-7.78 2.81-2.81c.8-.78.8-2.07 0-2.86zM5.41 20L4 18.59l7.72-7.72 1.47 1.35L5.41 20z\"/>\n",
              "  </svg>\n",
              "      </button>\n",
              "      \n",
              "  <style>\n",
              "    .colab-df-container {\n",
              "      display:flex;\n",
              "      flex-wrap:wrap;\n",
              "      gap: 12px;\n",
              "    }\n",
              "\n",
              "    .colab-df-convert {\n",
              "      background-color: #E8F0FE;\n",
              "      border: none;\n",
              "      border-radius: 50%;\n",
              "      cursor: pointer;\n",
              "      display: none;\n",
              "      fill: #1967D2;\n",
              "      height: 32px;\n",
              "      padding: 0 0 0 0;\n",
              "      width: 32px;\n",
              "    }\n",
              "\n",
              "    .colab-df-convert:hover {\n",
              "      background-color: #E2EBFA;\n",
              "      box-shadow: 0px 1px 2px rgba(60, 64, 67, 0.3), 0px 1px 3px 1px rgba(60, 64, 67, 0.15);\n",
              "      fill: #174EA6;\n",
              "    }\n",
              "\n",
              "    [theme=dark] .colab-df-convert {\n",
              "      background-color: #3B4455;\n",
              "      fill: #D2E3FC;\n",
              "    }\n",
              "\n",
              "    [theme=dark] .colab-df-convert:hover {\n",
              "      background-color: #434B5C;\n",
              "      box-shadow: 0px 1px 3px 1px rgba(0, 0, 0, 0.15);\n",
              "      filter: drop-shadow(0px 1px 2px rgba(0, 0, 0, 0.3));\n",
              "      fill: #FFFFFF;\n",
              "    }\n",
              "  </style>\n",
              "\n",
              "      <script>\n",
              "        const buttonEl =\n",
              "          document.querySelector('#df-1a2f3128-cf13-44a3-9286-52879895203d button.colab-df-convert');\n",
              "        buttonEl.style.display =\n",
              "          google.colab.kernel.accessAllowed ? 'block' : 'none';\n",
              "\n",
              "        async function convertToInteractive(key) {\n",
              "          const element = document.querySelector('#df-1a2f3128-cf13-44a3-9286-52879895203d');\n",
              "          const dataTable =\n",
              "            await google.colab.kernel.invokeFunction('convertToInteractive',\n",
              "                                                     [key], {});\n",
              "          if (!dataTable) return;\n",
              "\n",
              "          const docLinkHtml = 'Like what you see? Visit the ' +\n",
              "            '<a target=\"_blank\" href=https://colab.research.google.com/notebooks/data_table.ipynb>data table notebook</a>'\n",
              "            + ' to learn more about interactive tables.';\n",
              "          element.innerHTML = '';\n",
              "          dataTable['output_type'] = 'display_data';\n",
              "          await google.colab.output.renderOutput(dataTable, element);\n",
              "          const docLink = document.createElement('div');\n",
              "          docLink.innerHTML = docLinkHtml;\n",
              "          element.appendChild(docLink);\n",
              "        }\n",
              "      </script>\n",
              "    </div>\n",
              "  </div>\n",
              "  "
            ]
          },
          "metadata": {},
          "execution_count": 15
        }
      ]
    },
    {
      "cell_type": "markdown",
      "source": [
        "## Creating Input Tokens "
      ],
      "metadata": {
        "id": "U0BIyRTmMUaa"
      }
    },
    {
      "cell_type": "code",
      "source": [
        "def create_inputs(pn_history: str, feature_text: str) -> Tuple[np.array]:\n",
        "    tokens = tokenizer(\n",
        "        pn_history,\n",
        "        feature_text,\n",
        "        max_length=SEQUENCE_LENGTH,\n",
        "        padding=\"max_length\",\n",
        "        add_special_tokens=True,\n",
        "    )\n",
        "    \n",
        "    input_ids = tokens['input_ids']\n",
        "    attention_mask = tokens[\"attention_mask\"]\n",
        "    return (np.array(input_ids), np.array(attention_mask))"
      ],
      "metadata": {
        "id": "HeOK87zYfVMS"
      },
      "execution_count": null,
      "outputs": []
    },
    {
      "cell_type": "markdown",
      "source": [
        "## Decoding Annotation's start and end locations"
      ],
      "metadata": {
        "id": "zO2p5jU_NU1E"
      }
    },
    {
      "cell_type": "code",
      "source": [
        "def decode_location(location: str) -> List[Tuple[int]]:\n",
        "    location = location.replace(\"[\", '')\n",
        "    location = location.replace(\"]\", '')\n",
        "    location = location.replace(\"'\", '')\n",
        "    location = location.replace(\",\", '')\n",
        "    location = location.replace(\";\", ' ')\n",
        "    location = location.split(\" \")\n",
        "    if list(filter(None, location)) == []:\n",
        "        return []\n",
        "    \n",
        "    location = list(map(int, location))\n",
        "    location_tuple_list = []\n",
        "    \n",
        "    for i in range(0, len(location), 2):\n",
        "        x1 = location[i]\n",
        "        x2 = location[i+1]\n",
        "        location_tuple_list.append((x1, x2))\n",
        "    \n",
        "    return location_tuple_list"
      ],
      "metadata": {
        "id": "WBRCHZv7fW2a"
      },
      "execution_count": null,
      "outputs": []
    },
    {
      "cell_type": "markdown",
      "source": [
        "## Creating Annotation's labels"
      ],
      "metadata": {
        "id": "KSoH7jarNbIt"
      }
    },
    {
      "cell_type": "code",
      "source": [
        "def create_labels(pn_history, annotation_length, location_list):\n",
        "    tokenized = tokenizer(\n",
        "        pn_history,\n",
        "        add_special_tokens=True,\n",
        "        max_length=SEQUENCE_LENGTH,\n",
        "        padding=\"max_length\",\n",
        "        return_offsets_mapping=True\n",
        "    )\n",
        "    \n",
        "    offset_mapping = tokenized[\"offset_mapping\"]\n",
        "    label = np.zeros(len(offset_mapping))\n",
        "    if annotation_length != 0:\n",
        "        locations = decode_location(location_list)\n",
        "        for location in locations:\n",
        "            start_idx, end_idx = -1, -1\n",
        "            start, end = location\n",
        "            for idx in range(len(offset_mapping)):\n",
        "                if (start_idx == -1) & (start < offset_mapping[idx][0]):\n",
        "                    start_idx = idx - 1\n",
        "                if (end_idx == -1) & (end <= offset_mapping[idx][1]):\n",
        "                    end_idx = idx + 1\n",
        "            if start_idx == -1:\n",
        "                start_idx = end_idx\n",
        "            if (start_idx != -1) & (end_idx != -1):\n",
        "                label[start_idx:end_idx] = 1\n",
        "            \n",
        "    return np.array(label)"
      ],
      "metadata": {
        "id": "bETInPzCfYux"
      },
      "execution_count": null,
      "outputs": []
    },
    {
      "cell_type": "markdown",
      "source": [
        "## Splitting Dataset into Train and Test"
      ],
      "metadata": {
        "id": "7o0oEjCJNgM8"
      }
    },
    {
      "cell_type": "code",
      "source": [
        "train, valid = train_test_split(\n",
        "    train[['pn_history', 'feature_text','annotation_length', 'location']],\n",
        "    test_size=0.2\n",
        ")"
      ],
      "metadata": {
        "id": "xv-yAB8Vfi_J"
      },
      "execution_count": null,
      "outputs": []
    },
    {
      "cell_type": "markdown",
      "source": [
        "## Getting the Dataset into X and y format"
      ],
      "metadata": {
        "id": "FfLbCumMNnsd"
      }
    },
    {
      "cell_type": "code",
      "source": [
        "def get_dataset_generator(dataframe: pd.DataFrame):\n",
        "    pn_history = dataframe[\"pn_history\"].values\n",
        "    feature_text = dataframe[\"feature_text\"].values\n",
        "    annotation_length = dataframe['annotation_length'].values\n",
        "    location = dataframe['location'].values\n",
        "    \n",
        "    for i in range(len(dataframe)):\n",
        "        inputs, masks = create_inputs(pn_history[i], feature_text[i])\n",
        "        labels = create_labels(pn_history[i], annotation_length[i], location[i])\n",
        "        yield (inputs, masks), labels"
      ],
      "metadata": {
        "id": "lEV8SR_QfkPS"
      },
      "execution_count": null,
      "outputs": []
    },
    {
      "cell_type": "markdown",
      "source": [
        "## Dataloader for Transformer"
      ],
      "metadata": {
        "id": "eNrV-fYCNvu_"
      }
    },
    {
      "cell_type": "code",
      "source": [
        "def get_dataloader(dataset_generator) -> tf.data.Dataset:\n",
        "    dataloader = tf.data.Dataset.from_generator(\n",
        "        dataset_generator,\n",
        "        output_signature=(\n",
        "            (\n",
        "                tf.TensorSpec(shape=(SEQUENCE_LENGTH,), dtype=tf.dtypes.int32, name=\"inputs\"),\n",
        "                tf.TensorSpec(shape=(SEQUENCE_LENGTH,), dtype=tf.dtypes.int32, name=\"attention_masks\"),\n",
        "            ),\n",
        "            tf.TensorSpec(shape=(SEQUENCE_LENGTH,), dtype=tf.dtypes.int32, name=\"labels\"),\n",
        "        )\n",
        "    )\n",
        "\n",
        "    dataloader = dataloader.batch(BATCH_SIZE)\n",
        "    return dataloader.prefetch(AUTOTUNE)"
      ],
      "metadata": {
        "id": "FffBR7Fefl1F"
      },
      "execution_count": null,
      "outputs": []
    },
    {
      "cell_type": "markdown",
      "source": [
        "# Training the model\n"
      ],
      "metadata": {
        "id": "XCW6qTMWNz4z"
      }
    },
    {
      "cell_type": "markdown",
      "source": [
        "\n",
        "## Assigning Early Stopping "
      ],
      "metadata": {
        "id": "L5jECiU0N-DE"
      }
    },
    {
      "cell_type": "code",
      "source": [
        "es = tf.keras.callbacks.EarlyStopping(\n",
        "    monitor='val_loss', \n",
        "    min_delta=1e-5, \n",
        "    patience=4, \n",
        "    verbose=1,\n",
        "    mode='auto', \n",
        "    restore_best_weights=True\n",
        ")\n",
        "\n",
        "rlr = tf.keras.callbacks.ReduceLROnPlateau(\n",
        "    monitor='val_loss', \n",
        "    factor=1e-5, \n",
        "    patience=2, \n",
        "    mode='auto', \n",
        "    min_delta=0.001\n",
        ")"
      ],
      "metadata": {
        "id": "1Y1C-IkCfnrn"
      },
      "execution_count": null,
      "outputs": []
    },
    {
      "cell_type": "markdown",
      "source": [
        "## Custom F1 Score Evaluation Metric"
      ],
      "metadata": {
        "id": "-hIsToN8N_Bs"
      }
    },
    {
      "cell_type": "code",
      "source": [
        "class F1Score(tf.keras.metrics.Metric):\n",
        "    def __init__(self, name='f1', **kwargs):\n",
        "        super(F1Score, self).__init__(name=name, **kwargs)\n",
        "        self.f1 = tfa.metrics.F1Score(num_classes=2, average='micro', threshold=0.50)\n",
        "\n",
        "    def update_state(self, y_true, y_pred, sample_weight=None):\n",
        "        y_true = tf.reshape(y_true, (-1, SEQUENCE_LENGTH))\n",
        "        y_pred = tf.reshape(y_pred, (-1, SEQUENCE_LENGTH))\n",
        "        self.f1.update_state(y_true, y_pred)\n",
        "        \n",
        "    def reset_state(self):\n",
        "        self.f1.reset_state()\n",
        "    \n",
        "    def result(self):\n",
        "        return self.f1.result()"
      ],
      "metadata": {
        "id": "vV20fhgJfpV2"
      },
      "execution_count": null,
      "outputs": []
    },
    {
      "cell_type": "markdown",
      "source": [
        "## Assigning Evaluation Metric, Callbacks, Optimizer and loss function"
      ],
      "metadata": {
        "id": "4A2wpbV3OD5J"
      }
    },
    {
      "cell_type": "code",
      "source": [
        "metrics = [\n",
        "    F1Score(), \n",
        "    tf.keras.metrics.Recall(thresholds=[0.5]), \n",
        "    tf.keras.metrics.Precision(thresholds=[0.5])\n",
        "]\n",
        "\n",
        "callbacks = [rlr, es]\n",
        "optimizer = tf.keras.optimizers.Adam(LEARNING_RATE, clipnorm=CLIP_NORM)\n",
        "loss = tf.keras.losses.BinaryCrossentropy(reduction=\"none\")"
      ],
      "metadata": {
        "id": "5JGEOJEefrBa"
      },
      "execution_count": null,
      "outputs": []
    },
    {
      "cell_type": "markdown",
      "source": [
        "## Fitting the model"
      ],
      "metadata": {
        "id": "bEDmdiRdONXi"
      }
    },
    {
      "cell_type": "code",
      "source": [
        "model.compile(\n",
        "    optimizer=optimizer,\n",
        "    loss=loss,\n",
        "    metrics=metrics\n",
        ")\n",
        "\n",
        "history = model.fit(\n",
        "    get_dataloader(lambda: get_dataset_generator(train)), \n",
        "    epochs=EPOCHS,\n",
        "    validation_data=get_dataloader(lambda: get_dataset_generator(valid)),\n",
        "    callbacks=callbacks,\n",
        ")"
      ],
      "metadata": {
        "colab": {
          "base_uri": "https://localhost:8080/"
        },
        "id": "LzI9T6IufsdQ",
        "outputId": "5455ef82-afcd-4503-833a-62e79425a41d"
      },
      "execution_count": null,
      "outputs": [
        {
          "output_type": "stream",
          "name": "stdout",
          "text": [
            "Epoch 1/20\n",
            "WARNING:tensorflow:From /usr/local/lib/python3.7/dist-packages/transformers/models/deberta/modeling_tf_deberta.py:106: Bernoulli.__init__ (from tensorflow.python.ops.distributions.bernoulli) is deprecated and will be removed after 2019-01-01.\n",
            "Instructions for updating:\n",
            "The TensorFlow Distributions library has moved to TensorFlow Probability (https://github.com/tensorflow/probability). You should update all references to use `tfp.distributions` instead of `tf.distributions`.\n",
            "WARNING:tensorflow:From /usr/local/lib/python3.7/dist-packages/tensorflow/python/ops/distributions/bernoulli.py:93: Distribution.__init__ (from tensorflow.python.ops.distributions.distribution) is deprecated and will be removed after 2019-01-01.\n",
            "Instructions for updating:\n",
            "The TensorFlow Distributions library has moved to TensorFlow Probability (https://github.com/tensorflow/probability). You should update all references to use `tfp.distributions` instead of `tf.distributions`.\n",
            "1430/1430 [==============================] - 2865s 2s/step - loss: 0.0162 - f1: 0.5943 - recall: 0.4898 - precision: 0.7556 - val_loss: 0.0069 - val_f1: 0.7973 - val_recall: 0.8234 - val_precision: 0.7728 - lr: 2.0000e-05\n",
            "Epoch 2/20\n",
            "1430/1430 [==============================] - 2813s 2s/step - loss: 0.0063 - f1: 0.8178 - recall: 0.7907 - precision: 0.8468 - val_loss: 0.0055 - val_f1: 0.8307 - val_recall: 0.8380 - val_precision: 0.8235 - lr: 2.0000e-05\n",
            "Epoch 3/20\n",
            "1430/1430 [==============================] - 2810s 2s/step - loss: 0.0045 - f1: 0.8655 - recall: 0.8569 - precision: 0.8743 - val_loss: 0.0054 - val_f1: 0.8457 - val_recall: 0.8771 - val_precision: 0.8165 - lr: 2.0000e-05\n",
            "Epoch 4/20\n",
            "1430/1430 [==============================] - 2810s 2s/step - loss: 0.0036 - f1: 0.8924 - recall: 0.8915 - precision: 0.8934 - val_loss: 0.0054 - val_f1: 0.8529 - val_recall: 0.8330 - val_precision: 0.8739 - lr: 2.0000e-05\n",
            "Epoch 5/20\n",
            "1430/1430 [==============================] - 2810s 2s/step - loss: 0.0032 - f1: 0.9054 - recall: 0.8731 - precision: 0.9402 - val_loss: 0.0054 - val_f1: 0.8529 - val_recall: 0.8330 - val_precision: 0.8739 - lr: 2.0000e-10\n",
            "Epoch 6/20\n",
            "1430/1430 [==============================] - 2810s 2s/step - loss: 0.0032 - f1: 0.9048 - recall: 0.8720 - precision: 0.9401 - val_loss: 0.0054 - val_f1: 0.8529 - val_recall: 0.8330 - val_precision: 0.8739 - lr: 2.0000e-10\n",
            "Epoch 7/20\n",
            "1430/1430 [==============================] - 2809s 2s/step - loss: 0.0033 - f1: 0.9029 - recall: 0.8708 - precision: 0.9374 - val_loss: 0.0054 - val_f1: 0.8529 - val_recall: 0.8330 - val_precision: 0.8739 - lr: 2.0000e-15\n",
            "Epoch 8/20\n",
            "1430/1430 [==============================] - ETA: 0s - loss: 0.0033 - f1: 0.9046 - recall: 0.8716 - precision: 0.9401Restoring model weights from the end of the best epoch: 4.\n",
            "1430/1430 [==============================] - 2818s 2s/step - loss: 0.0033 - f1: 0.9046 - recall: 0.8716 - precision: 0.9401 - val_loss: 0.0054 - val_f1: 0.8529 - val_recall: 0.8330 - val_precision: 0.8739 - lr: 2.0000e-15\n",
            "Epoch 8: early stopping\n"
          ]
        }
      ]
    },
    {
      "cell_type": "markdown",
      "source": [
        "## Saving the generated Model"
      ],
      "metadata": {
        "id": "Zwv5mZehOPjv"
      }
    },
    {
      "cell_type": "code",
      "source": [
        "model.save_weights(f\"{MODEL_NAME}.h5\")"
      ],
      "metadata": {
        "id": "HGnbOOUFfvDj"
      },
      "execution_count": null,
      "outputs": []
    },
    {
      "cell_type": "markdown",
      "source": [
        "## Plotting the Precision, Recall and F1 Score"
      ],
      "metadata": {
        "id": "-_HYVeTeOSKw"
      }
    },
    {
      "cell_type": "code",
      "source": [
        "def plot_history():\n",
        "    loss = history.history[\"loss\"]\n",
        "    val_loss = history.history[\"val_loss\"]\n",
        "    \n",
        "    precision = history.history[\"precision\"]\n",
        "    val_precision = history.history[\"val_precision\"]\n",
        "    \n",
        "    recall = history.history[\"recall\"]\n",
        "    val_recall = history.history[\"val_recall\"]\n",
        "    \n",
        "    f1 = history.history[\"f1\"]\n",
        "    val_f1 = history.history[\"val_f1\"]\n",
        "    \n",
        "    fig, ax = plt.subplots(4, figsize=(10,25))\n",
        "    \n",
        "    min_train_loss = min(loss)\n",
        "    min_val_loss = min(val_loss)\n",
        "    \n",
        "    ax[0].plot(loss, label=\"Train loss\")\n",
        "    ax[0].plot(val_loss, label=\"Valid loss\")\n",
        "    ax[0].scatter(y=min_train_loss, x=loss.index(min_train_loss))\n",
        "    ax[0].scatter(y=min_val_loss, x=val_loss.index(min_val_loss))\n",
        "    ax[0].title.set_text('Loss')\n",
        "    ax[0].set_xlabel('Epoch')\n",
        "    ax[0].set_ylabel('Loss value')\n",
        "    ax[0].legend(loc=\"lower left\")\n",
        "\n",
        "    ax[1].plot(precision, label=\"Train precision\")\n",
        "    ax[1].plot(val_precision, label=\"Valid precision\")\n",
        "    ax[1].set_xlabel('Epoch')\n",
        "    ax[1].set_ylabel('Precision value')\n",
        "    ax[1].title.set_text('Precision')\n",
        "    ax[1].legend(loc=\"lower right\")\n",
        "    \n",
        "    ax[2].plot(recall, label=\"Train recall\")    \n",
        "    ax[2].plot(val_recall, label=\"Valid recall\")\n",
        "    ax[2].set_xlabel('Epoch')\n",
        "    ax[2].set_ylabel('Recall value')\n",
        "    ax[2].title.set_text('Recall')\n",
        "    ax[2].legend(loc=\"lower right\")\n",
        "    \n",
        "    ax[3].plot(f1, label=\"Train F1 score\")\n",
        "    ax[3].plot(val_f1, label=\"Valid F1 score\")\n",
        "    ax[3].set_xlabel('Epoch')\n",
        "    ax[3].set_ylabel('F1 score value')\n",
        "    ax[3].title.set_text(\"F1 score\")\n",
        "    ax[3].legend(loc=\"lower right\")\n",
        "    \n",
        "    plt.show()"
      ],
      "metadata": {
        "id": "5NXwjJQNfxYM"
      },
      "execution_count": null,
      "outputs": []
    },
    {
      "cell_type": "code",
      "source": [
        "plot_history()"
      ],
      "metadata": {
        "colab": {
          "base_uri": "https://localhost:8080/",
          "height": 1000
        },
        "id": "bVCmVp0Lfyst",
        "outputId": "ed867977-93ba-4925-aaea-f07e17c68609"
      },
      "execution_count": null,
      "outputs": [
        {
          "output_type": "display_data",
          "data": {
            "text/plain": [
              "<Figure size 720x1800 with 4 Axes>"
            ],
            "image/png": "[encoded data removed]"
          },
          "metadata": {
            "needs_background": "light"
          }
        }
      ]
    }
  ]
}