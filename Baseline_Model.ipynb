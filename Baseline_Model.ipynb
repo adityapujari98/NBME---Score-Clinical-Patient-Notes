{
  "nbformat": 4,
  "nbformat_minor": 0,
  "metadata": {
    "colab": {
      "name": "Baseline Model.ipynb",
      "provenance": [],
      "collapsed_sections": [],
      "machine_shape": "hm"
    },
    "kernelspec": {
      "name": "python3",
      "display_name": "Python 3"
    },
    "language_info": {
      "name": "python"
    },
    "accelerator": "GPU",
    "widgets": {
      "application/vnd.jupyter.widget-state+json": {
        "91ac650cedfe42fd8a8e51efc20f05ed": {
          "model_module": "@jupyter-widgets/controls",
          "model_name": "HBoxModel",
          "model_module_version": "1.5.0",
          "state": {
            "_dom_classes": [],
            "_model_module": "@jupyter-widgets/controls",
            "_model_module_version": "1.5.0",
            "_model_name": "HBoxModel",
            "_view_count": null,
            "_view_module": "@jupyter-widgets/controls",
            "_view_module_version": "1.5.0",
            "_view_name": "HBoxView",
            "box_style": "",
            "children": [
              "IPY_MODEL_46aee2f565b94b5a970b36f3f3a59cfb",
              "IPY_MODEL_7a978d34f3184359b1f47017a88bff7e",
              "IPY_MODEL_17d6ffb3bfad44c58dae57f97e4a07f2"
            ],
            "layout": "IPY_MODEL_ef494b5733284668a0cd7155f0f1bc9e"
          }
        },
        "46aee2f565b94b5a970b36f3f3a59cfb": {
          "model_module": "@jupyter-widgets/controls",
          "model_name": "HTMLModel",
          "model_module_version": "1.5.0",
          "state": {
            "_dom_classes": [],
            "_model_module": "@jupyter-widgets/controls",
            "_model_module_version": "1.5.0",
            "_model_name": "HTMLModel",
            "_view_count": null,
            "_view_module": "@jupyter-widgets/controls",
            "_view_module_version": "1.5.0",
            "_view_name": "HTMLView",
            "description": "",
            "description_tooltip": null,
            "layout": "IPY_MODEL_fac7b448f12a4c4eb526812a9e2c12a2",
            "placeholder": "​",
            "style": "IPY_MODEL_6d2c6a8bcf7a46c4bc6739e50d270f6e",
            "value": "Downloading: 100%"
          }
        },
        "7a978d34f3184359b1f47017a88bff7e": {
          "model_module": "@jupyter-widgets/controls",
          "model_name": "FloatProgressModel",
          "model_module_version": "1.5.0",
          "state": {
            "_dom_classes": [],
            "_model_module": "@jupyter-widgets/controls",
            "_model_module_version": "1.5.0",
            "_model_name": "FloatProgressModel",
            "_view_count": null,
            "_view_module": "@jupyter-widgets/controls",
            "_view_module_version": "1.5.0",
            "_view_name": "ProgressView",
            "bar_style": "success",
            "description": "",
            "description_tooltip": null,
            "layout": "IPY_MODEL_e5ef099cd32c466f9c1f63bf0a9ef14f",
            "max": 52,
            "min": 0,
            "orientation": "horizontal",
            "style": "IPY_MODEL_da19db6e45594faa91ee5e1f0c90fa37",
            "value": 52
          }
        },
        "17d6ffb3bfad44c58dae57f97e4a07f2": {
          "model_module": "@jupyter-widgets/controls",
          "model_name": "HTMLModel",
          "model_module_version": "1.5.0",
          "state": {
            "_dom_classes": [],
            "_model_module": "@jupyter-widgets/controls",
            "_model_module_version": "1.5.0",
            "_model_name": "HTMLModel",
            "_view_count": null,
            "_view_module": "@jupyter-widgets/controls",
            "_view_module_version": "1.5.0",
            "_view_name": "HTMLView",
            "description": "",
            "description_tooltip": null,
            "layout": "IPY_MODEL_d8d980e182bf45d5a01147a4da9ade5a",
            "placeholder": "​",
            "style": "IPY_MODEL_0bedefe11d484c409191c621e1866f46",
            "value": " 52.0/52.0 [00:00&lt;00:00, 1.89kB/s]"
          }
        },
        "ef494b5733284668a0cd7155f0f1bc9e": {
          "model_module": "@jupyter-widgets/base",
          "model_name": "LayoutModel",
          "model_module_version": "1.2.0",
          "state": {
            "_model_module": "@jupyter-widgets/base",
            "_model_module_version": "1.2.0",
            "_model_name": "LayoutModel",
            "_view_count": null,
            "_view_module": "@jupyter-widgets/base",
            "_view_module_version": "1.2.0",
            "_view_name": "LayoutView",
            "align_content": null,
            "align_items": null,
            "align_self": null,
            "border": null,
            "bottom": null,
            "display": null,
            "flex": null,
            "flex_flow": null,
            "grid_area": null,
            "grid_auto_columns": null,
            "grid_auto_flow": null,
            "grid_auto_rows": null,
            "grid_column": null,
            "grid_gap": null,
            "grid_row": null,
            "grid_template_areas": null,
            "grid_template_columns": null,
            "grid_template_rows": null,
            "height": null,
            "justify_content": null,
            "justify_items": null,
            "left": null,
            "margin": null,
            "max_height": null,
            "max_width": null,
            "min_height": null,
            "min_width": null,
            "object_fit": null,
            "object_position": null,
            "order": null,
            "overflow": null,
            "overflow_x": null,
            "overflow_y": null,
            "padding": null,
            "right": null,
            "top": null,
            "visibility": null,
            "width": null
          }
        },
        "fac7b448f12a4c4eb526812a9e2c12a2": {
          "model_module": "@jupyter-widgets/base",
          "model_name": "LayoutModel",
          "model_module_version": "1.2.0",
          "state": {
            "_model_module": "@jupyter-widgets/base",
            "_model_module_version": "1.2.0",
            "_model_name": "LayoutModel",
            "_view_count": null,
            "_view_module": "@jupyter-widgets/base",
            "_view_module_version": "1.2.0",
            "_view_name": "LayoutView",
            "align_content": null,
            "align_items": null,
            "align_self": null,
            "border": null,
            "bottom": null,
            "display": null,
            "flex": null,
            "flex_flow": null,
            "grid_area": null,
            "grid_auto_columns": null,
            "grid_auto_flow": null,
            "grid_auto_rows": null,
            "grid_column": null,
            "grid_gap": null,
            "grid_row": null,
            "grid_template_areas": null,
            "grid_template_columns": null,
            "grid_template_rows": null,
            "height": null,
            "justify_content": null,
            "justify_items": null,
            "left": null,
            "margin": null,
            "max_height": null,
            "max_width": null,
            "min_height": null,
            "min_width": null,
            "object_fit": null,
            "object_position": null,
            "order": null,
            "overflow": null,
            "overflow_x": null,
            "overflow_y": null,
            "padding": null,
            "right": null,
            "top": null,
            "visibility": null,
            "width": null
          }
        },
        "6d2c6a8bcf7a46c4bc6739e50d270f6e": {
          "model_module": "@jupyter-widgets/controls",
          "model_name": "DescriptionStyleModel",
          "model_module_version": "1.5.0",
          "state": {
            "_model_module": "@jupyter-widgets/controls",
            "_model_module_version": "1.5.0",
            "_model_name": "DescriptionStyleModel",
            "_view_count": null,
            "_view_module": "@jupyter-widgets/base",
            "_view_module_version": "1.2.0",
            "_view_name": "StyleView",
            "description_width": ""
          }
        },
        "e5ef099cd32c466f9c1f63bf0a9ef14f": {
          "model_module": "@jupyter-widgets/base",
          "model_name": "LayoutModel",
          "model_module_version": "1.2.0",
          "state": {
            "_model_module": "@jupyter-widgets/base",
            "_model_module_version": "1.2.0",
            "_model_name": "LayoutModel",
            "_view_count": null,
            "_view_module": "@jupyter-widgets/base",
            "_view_module_version": "1.2.0",
            "_view_name": "LayoutView",
            "align_content": null,
            "align_items": null,
            "align_self": null,
            "border": null,
            "bottom": null,
            "display": null,
            "flex": null,
            "flex_flow": null,
            "grid_area": null,
            "grid_auto_columns": null,
            "grid_auto_flow": null,
            "grid_auto_rows": null,
            "grid_column": null,
            "grid_gap": null,
            "grid_row": null,
            "grid_template_areas": null,
            "grid_template_columns": null,
            "grid_template_rows": null,
            "height": null,
            "justify_content": null,
            "justify_items": null,
            "left": null,
            "margin": null,
            "max_height": null,
            "max_width": null,
            "min_height": null,
            "min_width": null,
            "object_fit": null,
            "object_position": null,
            "order": null,
            "overflow": null,
            "overflow_x": null,
            "overflow_y": null,
            "padding": null,
            "right": null,
            "top": null,
            "visibility": null,
            "width": null
          }
        },
        "da19db6e45594faa91ee5e1f0c90fa37": {
          "model_module": "@jupyter-widgets/controls",
          "model_name": "ProgressStyleModel",
          "model_module_version": "1.5.0",
          "state": {
            "_model_module": "@jupyter-widgets/controls",
            "_model_module_version": "1.5.0",
            "_model_name": "ProgressStyleModel",
            "_view_count": null,
            "_view_module": "@jupyter-widgets/base",
            "_view_module_version": "1.2.0",
            "_view_name": "StyleView",
            "bar_color": null,
            "description_width": ""
          }
        },
        "d8d980e182bf45d5a01147a4da9ade5a": {
          "model_module": "@jupyter-widgets/base",
          "model_name": "LayoutModel",
          "model_module_version": "1.2.0",
          "state": {
            "_model_module": "@jupyter-widgets/base",
            "_model_module_version": "1.2.0",
            "_model_name": "LayoutModel",
            "_view_count": null,
            "_view_module": "@jupyter-widgets/base",
            "_view_module_version": "1.2.0",
            "_view_name": "LayoutView",
            "align_content": null,
            "align_items": null,
            "align_self": null,
            "border": null,
            "bottom": null,
            "display": null,
            "flex": null,
            "flex_flow": null,
            "grid_area": null,
            "grid_auto_columns": null,
            "grid_auto_flow": null,
            "grid_auto_rows": null,
            "grid_column": null,
            "grid_gap": null,
            "grid_row": null,
            "grid_template_areas": null,
            "grid_template_columns": null,
            "grid_template_rows": null,
            "height": null,
            "justify_content": null,
            "justify_items": null,
            "left": null,
            "margin": null,
            "max_height": null,
            "max_width": null,
            "min_height": null,
            "min_width": null,
            "object_fit": null,
            "object_position": null,
            "order": null,
            "overflow": null,
            "overflow_x": null,
            "overflow_y": null,
            "padding": null,
            "right": null,
            "top": null,
            "visibility": null,
            "width": null
          }
        },
        "0bedefe11d484c409191c621e1866f46": {
          "model_module": "@jupyter-widgets/controls",
          "model_name": "DescriptionStyleModel",
          "model_module_version": "1.5.0",
          "state": {
            "_model_module": "@jupyter-widgets/controls",
            "_model_module_version": "1.5.0",
            "_model_name": "DescriptionStyleModel",
            "_view_count": null,
            "_view_module": "@jupyter-widgets/base",
            "_view_module_version": "1.2.0",
            "_view_name": "StyleView",
            "description_width": ""
          }
        },
        "3841360e86eb4292bef4e712c18c77c9": {
          "model_module": "@jupyter-widgets/controls",
          "model_name": "HBoxModel",
          "model_module_version": "1.5.0",
          "state": {
            "_dom_classes": [],
            "_model_module": "@jupyter-widgets/controls",
            "_model_module_version": "1.5.0",
            "_model_name": "HBoxModel",
            "_view_count": null,
            "_view_module": "@jupyter-widgets/controls",
            "_view_module_version": "1.5.0",
            "_view_name": "HBoxView",
            "box_style": "",
            "children": [
              "IPY_MODEL_fa0510930ae6471fa43190e811384413",
              "IPY_MODEL_8502190440134deaa04f61c4a4f02ca6",
              "IPY_MODEL_fb984c19cfb44c9db459571c5bacc451"
            ],
            "layout": "IPY_MODEL_39d2558f178544a2b411897d63c86e23"
          }
        },
        "fa0510930ae6471fa43190e811384413": {
          "model_module": "@jupyter-widgets/controls",
          "model_name": "HTMLModel",
          "model_module_version": "1.5.0",
          "state": {
            "_dom_classes": [],
            "_model_module": "@jupyter-widgets/controls",
            "_model_module_version": "1.5.0",
            "_model_name": "HTMLModel",
            "_view_count": null,
            "_view_module": "@jupyter-widgets/controls",
            "_view_module_version": "1.5.0",
            "_view_name": "HTMLView",
            "description": "",
            "description_tooltip": null,
            "layout": "IPY_MODEL_12bf7ad0375044ffbefd89442854654b",
            "placeholder": "​",
            "style": "IPY_MODEL_835b8d99814742699408d41b390b3d1d",
            "value": "Downloading: 100%"
          }
        },
        "8502190440134deaa04f61c4a4f02ca6": {
          "model_module": "@jupyter-widgets/controls",
          "model_name": "FloatProgressModel",
          "model_module_version": "1.5.0",
          "state": {
            "_dom_classes": [],
            "_model_module": "@jupyter-widgets/controls",
            "_model_module_version": "1.5.0",
            "_model_name": "FloatProgressModel",
            "_view_count": null,
            "_view_module": "@jupyter-widgets/controls",
            "_view_module_version": "1.5.0",
            "_view_name": "ProgressView",
            "bar_style": "success",
            "description": "",
            "description_tooltip": null,
            "layout": "IPY_MODEL_738807322ae3472a87066bd51463af03",
            "max": 474,
            "min": 0,
            "orientation": "horizontal",
            "style": "IPY_MODEL_eec09ac456cf45b98111306bf18bcf39",
            "value": 474
          }
        },
        "fb984c19cfb44c9db459571c5bacc451": {
          "model_module": "@jupyter-widgets/controls",
          "model_name": "HTMLModel",
          "model_module_version": "1.5.0",
          "state": {
            "_dom_classes": [],
            "_model_module": "@jupyter-widgets/controls",
            "_model_module_version": "1.5.0",
            "_model_name": "HTMLModel",
            "_view_count": null,
            "_view_module": "@jupyter-widgets/controls",
            "_view_module_version": "1.5.0",
            "_view_name": "HTMLView",
            "description": "",
            "description_tooltip": null,
            "layout": "IPY_MODEL_11cfb9e002284b749ae0525b41a9fef7",
            "placeholder": "​",
            "style": "IPY_MODEL_761708d1ab8440b9ac76d61f99ecb8bc",
            "value": " 474/474 [00:00&lt;00:00, 18.7kB/s]"
          }
        },
        "39d2558f178544a2b411897d63c86e23": {
          "model_module": "@jupyter-widgets/base",
          "model_name": "LayoutModel",
          "model_module_version": "1.2.0",
          "state": {
            "_model_module": "@jupyter-widgets/base",
            "_model_module_version": "1.2.0",
            "_model_name": "LayoutModel",
            "_view_count": null,
            "_view_module": "@jupyter-widgets/base",
            "_view_module_version": "1.2.0",
            "_view_name": "LayoutView",
            "align_content": null,
            "align_items": null,
            "align_self": null,
            "border": null,
            "bottom": null,
            "display": null,
            "flex": null,
            "flex_flow": null,
            "grid_area": null,
            "grid_auto_columns": null,
            "grid_auto_flow": null,
            "grid_auto_rows": null,
            "grid_column": null,
            "grid_gap": null,
            "grid_row": null,
            "grid_template_areas": null,
            "grid_template_columns": null,
            "grid_template_rows": null,
            "height": null,
            "justify_content": null,
            "justify_items": null,
            "left": null,
            "margin": null,
            "max_height": null,
            "max_width": null,
            "min_height": null,
            "min_width": null,
            "object_fit": null,
            "object_position": null,
            "order": null,
            "overflow": null,
            "overflow_x": null,
            "overflow_y": null,
            "padding": null,
            "right": null,
            "top": null,
            "visibility": null,
            "width": null
          }
        },
        "12bf7ad0375044ffbefd89442854654b": {
          "model_module": "@jupyter-widgets/base",
          "model_name": "LayoutModel",
          "model_module_version": "1.2.0",
          "state": {
            "_model_module": "@jupyter-widgets/base",
            "_model_module_version": "1.2.0",
            "_model_name": "LayoutModel",
            "_view_count": null,
            "_view_module": "@jupyter-widgets/base",
            "_view_module_version": "1.2.0",
            "_view_name": "LayoutView",
            "align_content": null,
            "align_items": null,
            "align_self": null,
            "border": null,
            "bottom": null,
            "display": null,
            "flex": null,
            "flex_flow": null,
            "grid_area": null,
            "grid_auto_columns": null,
            "grid_auto_flow": null,
            "grid_auto_rows": null,
            "grid_column": null,
            "grid_gap": null,
            "grid_row": null,
            "grid_template_areas": null,
            "grid_template_columns": null,
            "grid_template_rows": null,
            "height": null,
            "justify_content": null,
            "justify_items": null,
            "left": null,
            "margin": null,
            "max_height": null,
            "max_width": null,
            "min_height": null,
            "min_width": null,
            "object_fit": null,
            "object_position": null,
            "order": null,
            "overflow": null,
            "overflow_x": null,
            "overflow_y": null,
            "padding": null,
            "right": null,
            "top": null,
            "visibility": null,
            "width": null
          }
        },
        "835b8d99814742699408d41b390b3d1d": {
          "model_module": "@jupyter-widgets/controls",
          "model_name": "DescriptionStyleModel",
          "model_module_version": "1.5.0",
          "state": {
            "_model_module": "@jupyter-widgets/controls",
            "_model_module_version": "1.5.0",
            "_model_name": "DescriptionStyleModel",
            "_view_count": null,
            "_view_module": "@jupyter-widgets/base",
            "_view_module_version": "1.2.0",
            "_view_name": "StyleView",
            "description_width": ""
          }
        },
        "738807322ae3472a87066bd51463af03": {
          "model_module": "@jupyter-widgets/base",
          "model_name": "LayoutModel",
          "model_module_version": "1.2.0",
          "state": {
            "_model_module": "@jupyter-widgets/base",
            "_model_module_version": "1.2.0",
            "_model_name": "LayoutModel",
            "_view_count": null,
            "_view_module": "@jupyter-widgets/base",
            "_view_module_version": "1.2.0",
            "_view_name": "LayoutView",
            "align_content": null,
            "align_items": null,
            "align_self": null,
            "border": null,
            "bottom": null,
            "display": null,
            "flex": null,
            "flex_flow": null,
            "grid_area": null,
            "grid_auto_columns": null,
            "grid_auto_flow": null,
            "grid_auto_rows": null,
            "grid_column": null,
            "grid_gap": null,
            "grid_row": null,
            "grid_template_areas": null,
            "grid_template_columns": null,
            "grid_template_rows": null,
            "height": null,
            "justify_content": null,
            "justify_items": null,
            "left": null,
            "margin": null,
            "max_height": null,
            "max_width": null,
            "min_height": null,
            "min_width": null,
            "object_fit": null,
            "object_position": null,
            "order": null,
            "overflow": null,
            "overflow_x": null,
            "overflow_y": null,
            "padding": null,
            "right": null,
            "top": null,
            "visibility": null,
            "width": null
          }
        },
        "eec09ac456cf45b98111306bf18bcf39": {
          "model_module": "@jupyter-widgets/controls",
          "model_name": "ProgressStyleModel",
          "model_module_version": "1.5.0",
          "state": {
            "_model_module": "@jupyter-widgets/controls",
            "_model_module_version": "1.5.0",
            "_model_name": "ProgressStyleModel",
            "_view_count": null,
            "_view_module": "@jupyter-widgets/base",
            "_view_module_version": "1.2.0",
            "_view_name": "StyleView",
            "bar_color": null,
            "description_width": ""
          }
        },
        "11cfb9e002284b749ae0525b41a9fef7": {
          "model_module": "@jupyter-widgets/base",
          "model_name": "LayoutModel",
          "model_module_version": "1.2.0",
          "state": {
            "_model_module": "@jupyter-widgets/base",
            "_model_module_version": "1.2.0",
            "_model_name": "LayoutModel",
            "_view_count": null,
            "_view_module": "@jupyter-widgets/base",
            "_view_module_version": "1.2.0",
            "_view_name": "LayoutView",
            "align_content": null,
            "align_items": null,
            "align_self": null,
            "border": null,
            "bottom": null,
            "display": null,
            "flex": null,
            "flex_flow": null,
            "grid_area": null,
            "grid_auto_columns": null,
            "grid_auto_flow": null,
            "grid_auto_rows": null,
            "grid_column": null,
            "grid_gap": null,
            "grid_row": null,
            "grid_template_areas": null,
            "grid_template_columns": null,
            "grid_template_rows": null,
            "height": null,
            "justify_content": null,
            "justify_items": null,
            "left": null,
            "margin": null,
            "max_height": null,
            "max_width": null,
            "min_height": null,
            "min_width": null,
            "object_fit": null,
            "object_position": null,
            "order": null,
            "overflow": null,
            "overflow_x": null,
            "overflow_y": null,
            "padding": null,
            "right": null,
            "top": null,
            "visibility": null,
            "width": null
          }
        },
        "761708d1ab8440b9ac76d61f99ecb8bc": {
          "model_module": "@jupyter-widgets/controls",
          "model_name": "DescriptionStyleModel",
          "model_module_version": "1.5.0",
          "state": {
            "_model_module": "@jupyter-widgets/controls",
            "_model_module_version": "1.5.0",
            "_model_name": "DescriptionStyleModel",
            "_view_count": null,
            "_view_module": "@jupyter-widgets/base",
            "_view_module_version": "1.2.0",
            "_view_name": "StyleView",
            "description_width": ""
          }
        },
        "642a56eb44964909a06b4196407d0ac6": {
          "model_module": "@jupyter-widgets/controls",
          "model_name": "HBoxModel",
          "model_module_version": "1.5.0",
          "state": {
            "_dom_classes": [],
            "_model_module": "@jupyter-widgets/controls",
            "_model_module_version": "1.5.0",
            "_model_name": "HBoxModel",
            "_view_count": null,
            "_view_module": "@jupyter-widgets/controls",
            "_view_module_version": "1.5.0",
            "_view_name": "HBoxView",
            "box_style": "",
            "children": [
              "IPY_MODEL_e7d1a16fcef3469885b1854710e80c68",
              "IPY_MODEL_657f38489f064f2880ebfaaea2e753e5",
              "IPY_MODEL_fc97dc1699f34828b031d72aef401bff"
            ],
            "layout": "IPY_MODEL_930ffc45d84243efbd77a1518defc12a"
          }
        },
        "e7d1a16fcef3469885b1854710e80c68": {
          "model_module": "@jupyter-widgets/controls",
          "model_name": "HTMLModel",
          "model_module_version": "1.5.0",
          "state": {
            "_dom_classes": [],
            "_model_module": "@jupyter-widgets/controls",
            "_model_module_version": "1.5.0",
            "_model_name": "HTMLModel",
            "_view_count": null,
            "_view_module": "@jupyter-widgets/controls",
            "_view_module_version": "1.5.0",
            "_view_name": "HTMLView",
            "description": "",
            "description_tooltip": null,
            "layout": "IPY_MODEL_0ddbc787fb39410db81633f4e81a38d9",
            "placeholder": "​",
            "style": "IPY_MODEL_de5123e2afed435f8792e62403d3ead5",
            "value": "Downloading: 100%"
          }
        },
        "657f38489f064f2880ebfaaea2e753e5": {
          "model_module": "@jupyter-widgets/controls",
          "model_name": "FloatProgressModel",
          "model_module_version": "1.5.0",
          "state": {
            "_dom_classes": [],
            "_model_module": "@jupyter-widgets/controls",
            "_model_module_version": "1.5.0",
            "_model_name": "FloatProgressModel",
            "_view_count": null,
            "_view_module": "@jupyter-widgets/controls",
            "_view_module_version": "1.5.0",
            "_view_name": "ProgressView",
            "bar_style": "success",
            "description": "",
            "description_tooltip": null,
            "layout": "IPY_MODEL_6a14ee2de60b4ae3b2447ac790244f8c",
            "max": 898825,
            "min": 0,
            "orientation": "horizontal",
            "style": "IPY_MODEL_5f6f951a8e314640bcf999a45ef62393",
            "value": 898825
          }
        },
        "fc97dc1699f34828b031d72aef401bff": {
          "model_module": "@jupyter-widgets/controls",
          "model_name": "HTMLModel",
          "model_module_version": "1.5.0",
          "state": {
            "_dom_classes": [],
            "_model_module": "@jupyter-widgets/controls",
            "_model_module_version": "1.5.0",
            "_model_name": "HTMLModel",
            "_view_count": null,
            "_view_module": "@jupyter-widgets/controls",
            "_view_module_version": "1.5.0",
            "_view_name": "HTMLView",
            "description": "",
            "description_tooltip": null,
            "layout": "IPY_MODEL_7e7c27ce9ba44115b40264dc28635f93",
            "placeholder": "​",
            "style": "IPY_MODEL_10a79b6648064ca78e4d0b155e43a789",
            "value": " 878k/878k [00:00&lt;00:00, 2.18MB/s]"
          }
        },
        "930ffc45d84243efbd77a1518defc12a": {
          "model_module": "@jupyter-widgets/base",
          "model_name": "LayoutModel",
          "model_module_version": "1.2.0",
          "state": {
            "_model_module": "@jupyter-widgets/base",
            "_model_module_version": "1.2.0",
            "_model_name": "LayoutModel",
            "_view_count": null,
            "_view_module": "@jupyter-widgets/base",
            "_view_module_version": "1.2.0",
            "_view_name": "LayoutView",
            "align_content": null,
            "align_items": null,
            "align_self": null,
            "border": null,
            "bottom": null,
            "display": null,
            "flex": null,
            "flex_flow": null,
            "grid_area": null,
            "grid_auto_columns": null,
            "grid_auto_flow": null,
            "grid_auto_rows": null,
            "grid_column": null,
            "grid_gap": null,
            "grid_row": null,
            "grid_template_areas": null,
            "grid_template_columns": null,
            "grid_template_rows": null,
            "height": null,
            "justify_content": null,
            "justify_items": null,
            "left": null,
            "margin": null,
            "max_height": null,
            "max_width": null,
            "min_height": null,
            "min_width": null,
            "object_fit": null,
            "object_position": null,
            "order": null,
            "overflow": null,
            "overflow_x": null,
            "overflow_y": null,
            "padding": null,
            "right": null,
            "top": null,
            "visibility": null,
            "width": null
          }
        },
        "0ddbc787fb39410db81633f4e81a38d9": {
          "model_module": "@jupyter-widgets/base",
          "model_name": "LayoutModel",
          "model_module_version": "1.2.0",
          "state": {
            "_model_module": "@jupyter-widgets/base",
            "_model_module_version": "1.2.0",
            "_model_name": "LayoutModel",
            "_view_count": null,
            "_view_module": "@jupyter-widgets/base",
            "_view_module_version": "1.2.0",
            "_view_name": "LayoutView",
            "align_content": null,
            "align_items": null,
            "align_self": null,
            "border": null,
            "bottom": null,
            "display": null,
            "flex": null,
            "flex_flow": null,
            "grid_area": null,
            "grid_auto_columns": null,
            "grid_auto_flow": null,
            "grid_auto_rows": null,
            "grid_column": null,
            "grid_gap": null,
            "grid_row": null,
            "grid_template_areas": null,
            "grid_template_columns": null,
            "grid_template_rows": null,
            "height": null,
            "justify_content": null,
            "justify_items": null,
            "left": null,
            "margin": null,
            "max_height": null,
            "max_width": null,
            "min_height": null,
            "min_width": null,
            "object_fit": null,
            "object_position": null,
            "order": null,
            "overflow": null,
            "overflow_x": null,
            "overflow_y": null,
            "padding": null,
            "right": null,
            "top": null,
            "visibility": null,
            "width": null
          }
        },
        "de5123e2afed435f8792e62403d3ead5": {
          "model_module": "@jupyter-widgets/controls",
          "model_name": "DescriptionStyleModel",
          "model_module_version": "1.5.0",
          "state": {
            "_model_module": "@jupyter-widgets/controls",
            "_model_module_version": "1.5.0",
            "_model_name": "DescriptionStyleModel",
            "_view_count": null,
            "_view_module": "@jupyter-widgets/base",
            "_view_module_version": "1.2.0",
            "_view_name": "StyleView",
            "description_width": ""
          }
        },
        "6a14ee2de60b4ae3b2447ac790244f8c": {
          "model_module": "@jupyter-widgets/base",
          "model_name": "LayoutModel",
          "model_module_version": "1.2.0",
          "state": {
            "_model_module": "@jupyter-widgets/base",
            "_model_module_version": "1.2.0",
            "_model_name": "LayoutModel",
            "_view_count": null,
            "_view_module": "@jupyter-widgets/base",
            "_view_module_version": "1.2.0",
            "_view_name": "LayoutView",
            "align_content": null,
            "align_items": null,
            "align_self": null,
            "border": null,
            "bottom": null,
            "display": null,
            "flex": null,
            "flex_flow": null,
            "grid_area": null,
            "grid_auto_columns": null,
            "grid_auto_flow": null,
            "grid_auto_rows": null,
            "grid_column": null,
            "grid_gap": null,
            "grid_row": null,
            "grid_template_areas": null,
            "grid_template_columns": null,
            "grid_template_rows": null,
            "height": null,
            "justify_content": null,
            "justify_items": null,
            "left": null,
            "margin": null,
            "max_height": null,
            "max_width": null,
            "min_height": null,
            "min_width": null,
            "object_fit": null,
            "object_position": null,
            "order": null,
            "overflow": null,
            "overflow_x": null,
            "overflow_y": null,
            "padding": null,
            "right": null,
            "top": null,
            "visibility": null,
            "width": null
          }
        },
        "5f6f951a8e314640bcf999a45ef62393": {
          "model_module": "@jupyter-widgets/controls",
          "model_name": "ProgressStyleModel",
          "model_module_version": "1.5.0",
          "state": {
            "_model_module": "@jupyter-widgets/controls",
            "_model_module_version": "1.5.0",
            "_model_name": "ProgressStyleModel",
            "_view_count": null,
            "_view_module": "@jupyter-widgets/base",
            "_view_module_version": "1.2.0",
            "_view_name": "StyleView",
            "bar_color": null,
            "description_width": ""
          }
        },
        "7e7c27ce9ba44115b40264dc28635f93": {
          "model_module": "@jupyter-widgets/base",
          "model_name": "LayoutModel",
          "model_module_version": "1.2.0",
          "state": {
            "_model_module": "@jupyter-widgets/base",
            "_model_module_version": "1.2.0",
            "_model_name": "LayoutModel",
            "_view_count": null,
            "_view_module": "@jupyter-widgets/base",
            "_view_module_version": "1.2.0",
            "_view_name": "LayoutView",
            "align_content": null,
            "align_items": null,
            "align_self": null,
            "border": null,
            "bottom": null,
            "display": null,
            "flex": null,
            "flex_flow": null,
            "grid_area": null,
            "grid_auto_columns": null,
            "grid_auto_flow": null,
            "grid_auto_rows": null,
            "grid_column": null,
            "grid_gap": null,
            "grid_row": null,
            "grid_template_areas": null,
            "grid_template_columns": null,
            "grid_template_rows": null,
            "height": null,
            "justify_content": null,
            "justify_items": null,
            "left": null,
            "margin": null,
            "max_height": null,
            "max_width": null,
            "min_height": null,
            "min_width": null,
            "object_fit": null,
            "object_position": null,
            "order": null,
            "overflow": null,
            "overflow_x": null,
            "overflow_y": null,
            "padding": null,
            "right": null,
            "top": null,
            "visibility": null,
            "width": null
          }
        },
        "10a79b6648064ca78e4d0b155e43a789": {
          "model_module": "@jupyter-widgets/controls",
          "model_name": "DescriptionStyleModel",
          "model_module_version": "1.5.0",
          "state": {
            "_model_module": "@jupyter-widgets/controls",
            "_model_module_version": "1.5.0",
            "_model_name": "DescriptionStyleModel",
            "_view_count": null,
            "_view_module": "@jupyter-widgets/base",
            "_view_module_version": "1.2.0",
            "_view_name": "StyleView",
            "description_width": ""
          }
        },
        "ec23f10eed524d30b9c7abc8291cd3f7": {
          "model_module": "@jupyter-widgets/controls",
          "model_name": "HBoxModel",
          "model_module_version": "1.5.0",
          "state": {
            "_dom_classes": [],
            "_model_module": "@jupyter-widgets/controls",
            "_model_module_version": "1.5.0",
            "_model_name": "HBoxModel",
            "_view_count": null,
            "_view_module": "@jupyter-widgets/controls",
            "_view_module_version": "1.5.0",
            "_view_name": "HBoxView",
            "box_style": "",
            "children": [
              "IPY_MODEL_1d2293923685485db3f5f190380fc9dc",
              "IPY_MODEL_442d94ab2a5c4effa8c462e50e2a245d",
              "IPY_MODEL_edc8607ca3564da4bb49543697bad1d5"
            ],
            "layout": "IPY_MODEL_37dd9df9eaf342ef82c06d3a6aac7d86"
          }
        },
        "1d2293923685485db3f5f190380fc9dc": {
          "model_module": "@jupyter-widgets/controls",
          "model_name": "HTMLModel",
          "model_module_version": "1.5.0",
          "state": {
            "_dom_classes": [],
            "_model_module": "@jupyter-widgets/controls",
            "_model_module_version": "1.5.0",
            "_model_name": "HTMLModel",
            "_view_count": null,
            "_view_module": "@jupyter-widgets/controls",
            "_view_module_version": "1.5.0",
            "_view_name": "HTMLView",
            "description": "",
            "description_tooltip": null,
            "layout": "IPY_MODEL_6c933fa37d70418489afe46a267b1dcf",
            "placeholder": "​",
            "style": "IPY_MODEL_8f48c31f39b74b70a8eedd3dac18b035",
            "value": "Downloading: 100%"
          }
        },
        "442d94ab2a5c4effa8c462e50e2a245d": {
          "model_module": "@jupyter-widgets/controls",
          "model_name": "FloatProgressModel",
          "model_module_version": "1.5.0",
          "state": {
            "_dom_classes": [],
            "_model_module": "@jupyter-widgets/controls",
            "_model_module_version": "1.5.0",
            "_model_name": "FloatProgressModel",
            "_view_count": null,
            "_view_module": "@jupyter-widgets/controls",
            "_view_module_version": "1.5.0",
            "_view_name": "ProgressView",
            "bar_style": "success",
            "description": "",
            "description_tooltip": null,
            "layout": "IPY_MODEL_272a38a48acc49f1a0bc3fa2bde1e44b",
            "max": 456318,
            "min": 0,
            "orientation": "horizontal",
            "style": "IPY_MODEL_d5024232165e463f82842d3e51287653",
            "value": 456318
          }
        },
        "edc8607ca3564da4bb49543697bad1d5": {
          "model_module": "@jupyter-widgets/controls",
          "model_name": "HTMLModel",
          "model_module_version": "1.5.0",
          "state": {
            "_dom_classes": [],
            "_model_module": "@jupyter-widgets/controls",
            "_model_module_version": "1.5.0",
            "_model_name": "HTMLModel",
            "_view_count": null,
            "_view_module": "@jupyter-widgets/controls",
            "_view_module_version": "1.5.0",
            "_view_name": "HTMLView",
            "description": "",
            "description_tooltip": null,
            "layout": "IPY_MODEL_77b1fd48e99e4e6ab8f8d1490a169872",
            "placeholder": "​",
            "style": "IPY_MODEL_5d84295cb9594696b1f247b5e0af2613",
            "value": " 446k/446k [00:00&lt;00:00, 610kB/s]"
          }
        },
        "37dd9df9eaf342ef82c06d3a6aac7d86": {
          "model_module": "@jupyter-widgets/base",
          "model_name": "LayoutModel",
          "model_module_version": "1.2.0",
          "state": {
            "_model_module": "@jupyter-widgets/base",
            "_model_module_version": "1.2.0",
            "_model_name": "LayoutModel",
            "_view_count": null,
            "_view_module": "@jupyter-widgets/base",
            "_view_module_version": "1.2.0",
            "_view_name": "LayoutView",
            "align_content": null,
            "align_items": null,
            "align_self": null,
            "border": null,
            "bottom": null,
            "display": null,
            "flex": null,
            "flex_flow": null,
            "grid_area": null,
            "grid_auto_columns": null,
            "grid_auto_flow": null,
            "grid_auto_rows": null,
            "grid_column": null,
            "grid_gap": null,
            "grid_row": null,
            "grid_template_areas": null,
            "grid_template_columns": null,
            "grid_template_rows": null,
            "height": null,
            "justify_content": null,
            "justify_items": null,
            "left": null,
            "margin": null,
            "max_height": null,
            "max_width": null,
            "min_height": null,
            "min_width": null,
            "object_fit": null,
            "object_position": null,
            "order": null,
            "overflow": null,
            "overflow_x": null,
            "overflow_y": null,
            "padding": null,
            "right": null,
            "top": null,
            "visibility": null,
            "width": null
          }
        },
        "6c933fa37d70418489afe46a267b1dcf": {
          "model_module": "@jupyter-widgets/base",
          "model_name": "LayoutModel",
          "model_module_version": "1.2.0",
          "state": {
            "_model_module": "@jupyter-widgets/base",
            "_model_module_version": "1.2.0",
            "_model_name": "LayoutModel",
            "_view_count": null,
            "_view_module": "@jupyter-widgets/base",
            "_view_module_version": "1.2.0",
            "_view_name": "LayoutView",
            "align_content": null,
            "align_items": null,
            "align_self": null,
            "border": null,
            "bottom": null,
            "display": null,
            "flex": null,
            "flex_flow": null,
            "grid_area": null,
            "grid_auto_columns": null,
            "grid_auto_flow": null,
            "grid_auto_rows": null,
            "grid_column": null,
            "grid_gap": null,
            "grid_row": null,
            "grid_template_areas": null,
            "grid_template_columns": null,
            "grid_template_rows": null,
            "height": null,
            "justify_content": null,
            "justify_items": null,
            "left": null,
            "margin": null,
            "max_height": null,
            "max_width": null,
            "min_height": null,
            "min_width": null,
            "object_fit": null,
            "object_position": null,
            "order": null,
            "overflow": null,
            "overflow_x": null,
            "overflow_y": null,
            "padding": null,
            "right": null,
            "top": null,
            "visibility": null,
            "width": null
          }
        },
        "8f48c31f39b74b70a8eedd3dac18b035": {
          "model_module": "@jupyter-widgets/controls",
          "model_name": "DescriptionStyleModel",
          "model_module_version": "1.5.0",
          "state": {
            "_model_module": "@jupyter-widgets/controls",
            "_model_module_version": "1.5.0",
            "_model_name": "DescriptionStyleModel",
            "_view_count": null,
            "_view_module": "@jupyter-widgets/base",
            "_view_module_version": "1.2.0",
            "_view_name": "StyleView",
            "description_width": ""
          }
        },
        "272a38a48acc49f1a0bc3fa2bde1e44b": {
          "model_module": "@jupyter-widgets/base",
          "model_name": "LayoutModel",
          "model_module_version": "1.2.0",
          "state": {
            "_model_module": "@jupyter-widgets/base",
            "_model_module_version": "1.2.0",
            "_model_name": "LayoutModel",
            "_view_count": null,
            "_view_module": "@jupyter-widgets/base",
            "_view_module_version": "1.2.0",
            "_view_name": "LayoutView",
            "align_content": null,
            "align_items": null,
            "align_self": null,
            "border": null,
            "bottom": null,
            "display": null,
            "flex": null,
            "flex_flow": null,
            "grid_area": null,
            "grid_auto_columns": null,
            "grid_auto_flow": null,
            "grid_auto_rows": null,
            "grid_column": null,
            "grid_gap": null,
            "grid_row": null,
            "grid_template_areas": null,
            "grid_template_columns": null,
            "grid_template_rows": null,
            "height": null,
            "justify_content": null,
            "justify_items": null,
            "left": null,
            "margin": null,
            "max_height": null,
            "max_width": null,
            "min_height": null,
            "min_width": null,
            "object_fit": null,
            "object_position": null,
            "order": null,
            "overflow": null,
            "overflow_x": null,
            "overflow_y": null,
            "padding": null,
            "right": null,
            "top": null,
            "visibility": null,
            "width": null
          }
        },
        "d5024232165e463f82842d3e51287653": {
          "model_module": "@jupyter-widgets/controls",
          "model_name": "ProgressStyleModel",
          "model_module_version": "1.5.0",
          "state": {
            "_model_module": "@jupyter-widgets/controls",
            "_model_module_version": "1.5.0",
            "_model_name": "ProgressStyleModel",
            "_view_count": null,
            "_view_module": "@jupyter-widgets/base",
            "_view_module_version": "1.2.0",
            "_view_name": "StyleView",
            "bar_color": null,
            "description_width": ""
          }
        },
        "77b1fd48e99e4e6ab8f8d1490a169872": {
          "model_module": "@jupyter-widgets/base",
          "model_name": "LayoutModel",
          "model_module_version": "1.2.0",
          "state": {
            "_model_module": "@jupyter-widgets/base",
            "_model_module_version": "1.2.0",
            "_model_name": "LayoutModel",
            "_view_count": null,
            "_view_module": "@jupyter-widgets/base",
            "_view_module_version": "1.2.0",
            "_view_name": "LayoutView",
            "align_content": null,
            "align_items": null,
            "align_self": null,
            "border": null,
            "bottom": null,
            "display": null,
            "flex": null,
            "flex_flow": null,
            "grid_area": null,
            "grid_auto_columns": null,
            "grid_auto_flow": null,
            "grid_auto_rows": null,
            "grid_column": null,
            "grid_gap": null,
            "grid_row": null,
            "grid_template_areas": null,
            "grid_template_columns": null,
            "grid_template_rows": null,
            "height": null,
            "justify_content": null,
            "justify_items": null,
            "left": null,
            "margin": null,
            "max_height": null,
            "max_width": null,
            "min_height": null,
            "min_width": null,
            "object_fit": null,
            "object_position": null,
            "order": null,
            "overflow": null,
            "overflow_x": null,
            "overflow_y": null,
            "padding": null,
            "right": null,
            "top": null,
            "visibility": null,
            "width": null
          }
        },
        "5d84295cb9594696b1f247b5e0af2613": {
          "model_module": "@jupyter-widgets/controls",
          "model_name": "DescriptionStyleModel",
          "model_module_version": "1.5.0",
          "state": {
            "_model_module": "@jupyter-widgets/controls",
            "_model_module_version": "1.5.0",
            "_model_name": "DescriptionStyleModel",
            "_view_count": null,
            "_view_module": "@jupyter-widgets/base",
            "_view_module_version": "1.2.0",
            "_view_name": "StyleView",
            "description_width": ""
          }
        },
        "6c145795afb0475b81d9d2ca099a745c": {
          "model_module": "@jupyter-widgets/controls",
          "model_name": "HBoxModel",
          "model_module_version": "1.5.0",
          "state": {
            "_dom_classes": [],
            "_model_module": "@jupyter-widgets/controls",
            "_model_module_version": "1.5.0",
            "_model_name": "HBoxModel",
            "_view_count": null,
            "_view_module": "@jupyter-widgets/controls",
            "_view_module_version": "1.5.0",
            "_view_name": "HBoxView",
            "box_style": "",
            "children": [
              "IPY_MODEL_5d4d407713ef4b48861445672c79886f",
              "IPY_MODEL_0bfc3c15bb0047b3a2c913843171b38f",
              "IPY_MODEL_4aca352d2fc04d33bbba0cf2183dd6db"
            ],
            "layout": "IPY_MODEL_6eb1feee7a834046a546f3fd8b2854c7"
          }
        },
        "5d4d407713ef4b48861445672c79886f": {
          "model_module": "@jupyter-widgets/controls",
          "model_name": "HTMLModel",
          "model_module_version": "1.5.0",
          "state": {
            "_dom_classes": [],
            "_model_module": "@jupyter-widgets/controls",
            "_model_module_version": "1.5.0",
            "_model_name": "HTMLModel",
            "_view_count": null,
            "_view_module": "@jupyter-widgets/controls",
            "_view_module_version": "1.5.0",
            "_view_name": "HTMLView",
            "description": "",
            "description_tooltip": null,
            "layout": "IPY_MODEL_b5a9c744cc894921a8adb86681dbf195",
            "placeholder": "​",
            "style": "IPY_MODEL_2f127913154b43768306e3b345c4c457",
            "value": "Downloading: 100%"
          }
        },
        "0bfc3c15bb0047b3a2c913843171b38f": {
          "model_module": "@jupyter-widgets/controls",
          "model_name": "FloatProgressModel",
          "model_module_version": "1.5.0",
          "state": {
            "_dom_classes": [],
            "_model_module": "@jupyter-widgets/controls",
            "_model_module_version": "1.5.0",
            "_model_name": "FloatProgressModel",
            "_view_count": null,
            "_view_module": "@jupyter-widgets/controls",
            "_view_module_version": "1.5.0",
            "_view_name": "ProgressView",
            "bar_style": "success",
            "description": "",
            "description_tooltip": null,
            "layout": "IPY_MODEL_bb313495672840d5b5dd96a4f9d750cf",
            "max": 554669920,
            "min": 0,
            "orientation": "horizontal",
            "style": "IPY_MODEL_d8341a490c4b4fca9f446f2f0d27ccbb",
            "value": 554669920
          }
        },
        "4aca352d2fc04d33bbba0cf2183dd6db": {
          "model_module": "@jupyter-widgets/controls",
          "model_name": "HTMLModel",
          "model_module_version": "1.5.0",
          "state": {
            "_dom_classes": [],
            "_model_module": "@jupyter-widgets/controls",
            "_model_module_version": "1.5.0",
            "_model_name": "HTMLModel",
            "_view_count": null,
            "_view_module": "@jupyter-widgets/controls",
            "_view_module_version": "1.5.0",
            "_view_name": "HTMLView",
            "description": "",
            "description_tooltip": null,
            "layout": "IPY_MODEL_bec7c68d72a1479fab928875a5d22956",
            "placeholder": "​",
            "style": "IPY_MODEL_a4fcf7b5c2f14908a41499474dcd523a",
            "value": " 529M/529M [00:12&lt;00:00, 57.1MB/s]"
          }
        },
        "6eb1feee7a834046a546f3fd8b2854c7": {
          "model_module": "@jupyter-widgets/base",
          "model_name": "LayoutModel",
          "model_module_version": "1.2.0",
          "state": {
            "_model_module": "@jupyter-widgets/base",
            "_model_module_version": "1.2.0",
            "_model_name": "LayoutModel",
            "_view_count": null,
            "_view_module": "@jupyter-widgets/base",
            "_view_module_version": "1.2.0",
            "_view_name": "LayoutView",
            "align_content": null,
            "align_items": null,
            "align_self": null,
            "border": null,
            "bottom": null,
            "display": null,
            "flex": null,
            "flex_flow": null,
            "grid_area": null,
            "grid_auto_columns": null,
            "grid_auto_flow": null,
            "grid_auto_rows": null,
            "grid_column": null,
            "grid_gap": null,
            "grid_row": null,
            "grid_template_areas": null,
            "grid_template_columns": null,
            "grid_template_rows": null,
            "height": null,
            "justify_content": null,
            "justify_items": null,
            "left": null,
            "margin": null,
            "max_height": null,
            "max_width": null,
            "min_height": null,
            "min_width": null,
            "object_fit": null,
            "object_position": null,
            "order": null,
            "overflow": null,
            "overflow_x": null,
            "overflow_y": null,
            "padding": null,
            "right": null,
            "top": null,
            "visibility": null,
            "width": null
          }
        },
        "b5a9c744cc894921a8adb86681dbf195": {
          "model_module": "@jupyter-widgets/base",
          "model_name": "LayoutModel",
          "model_module_version": "1.2.0",
          "state": {
            "_model_module": "@jupyter-widgets/base",
            "_model_module_version": "1.2.0",
            "_model_name": "LayoutModel",
            "_view_count": null,
            "_view_module": "@jupyter-widgets/base",
            "_view_module_version": "1.2.0",
            "_view_name": "LayoutView",
            "align_content": null,
            "align_items": null,
            "align_self": null,
            "border": null,
            "bottom": null,
            "display": null,
            "flex": null,
            "flex_flow": null,
            "grid_area": null,
            "grid_auto_columns": null,
            "grid_auto_flow": null,
            "grid_auto_rows": null,
            "grid_column": null,
            "grid_gap": null,
            "grid_row": null,
            "grid_template_areas": null,
            "grid_template_columns": null,
            "grid_template_rows": null,
            "height": null,
            "justify_content": null,
            "justify_items": null,
            "left": null,
            "margin": null,
            "max_height": null,
            "max_width": null,
            "min_height": null,
            "min_width": null,
            "object_fit": null,
            "object_position": null,
            "order": null,
            "overflow": null,
            "overflow_x": null,
            "overflow_y": null,
            "padding": null,
            "right": null,
            "top": null,
            "visibility": null,
            "width": null
          }
        },
        "2f127913154b43768306e3b345c4c457": {
          "model_module": "@jupyter-widgets/controls",
          "model_name": "DescriptionStyleModel",
          "model_module_version": "1.5.0",
          "state": {
            "_model_module": "@jupyter-widgets/controls",
            "_model_module_version": "1.5.0",
            "_model_name": "DescriptionStyleModel",
            "_view_count": null,
            "_view_module": "@jupyter-widgets/base",
            "_view_module_version": "1.2.0",
            "_view_name": "StyleView",
            "description_width": ""
          }
        },
        "bb313495672840d5b5dd96a4f9d750cf": {
          "model_module": "@jupyter-widgets/base",
          "model_name": "LayoutModel",
          "model_module_version": "1.2.0",
          "state": {
            "_model_module": "@jupyter-widgets/base",
            "_model_module_version": "1.2.0",
            "_model_name": "LayoutModel",
            "_view_count": null,
            "_view_module": "@jupyter-widgets/base",
            "_view_module_version": "1.2.0",
            "_view_name": "LayoutView",
            "align_content": null,
            "align_items": null,
            "align_self": null,
            "border": null,
            "bottom": null,
            "display": null,
            "flex": null,
            "flex_flow": null,
            "grid_area": null,
            "grid_auto_columns": null,
            "grid_auto_flow": null,
            "grid_auto_rows": null,
            "grid_column": null,
            "grid_gap": null,
            "grid_row": null,
            "grid_template_areas": null,
            "grid_template_columns": null,
            "grid_template_rows": null,
            "height": null,
            "justify_content": null,
            "justify_items": null,
            "left": null,
            "margin": null,
            "max_height": null,
            "max_width": null,
            "min_height": null,
            "min_width": null,
            "object_fit": null,
            "object_position": null,
            "order": null,
            "overflow": null,
            "overflow_x": null,
            "overflow_y": null,
            "padding": null,
            "right": null,
            "top": null,
            "visibility": null,
            "width": null
          }
        },
        "d8341a490c4b4fca9f446f2f0d27ccbb": {
          "model_module": "@jupyter-widgets/controls",
          "model_name": "ProgressStyleModel",
          "model_module_version": "1.5.0",
          "state": {
            "_model_module": "@jupyter-widgets/controls",
            "_model_module_version": "1.5.0",
            "_model_name": "ProgressStyleModel",
            "_view_count": null,
            "_view_module": "@jupyter-widgets/base",
            "_view_module_version": "1.2.0",
            "_view_name": "StyleView",
            "bar_color": null,
            "description_width": ""
          }
        },
        "bec7c68d72a1479fab928875a5d22956": {
          "model_module": "@jupyter-widgets/base",
          "model_name": "LayoutModel",
          "model_module_version": "1.2.0",
          "state": {
            "_model_module": "@jupyter-widgets/base",
            "_model_module_version": "1.2.0",
            "_model_name": "LayoutModel",
            "_view_count": null,
            "_view_module": "@jupyter-widgets/base",
            "_view_module_version": "1.2.0",
            "_view_name": "LayoutView",
            "align_content": null,
            "align_items": null,
            "align_self": null,
            "border": null,
            "bottom": null,
            "display": null,
            "flex": null,
            "flex_flow": null,
            "grid_area": null,
            "grid_auto_columns": null,
            "grid_auto_flow": null,
            "grid_auto_rows": null,
            "grid_column": null,
            "grid_gap": null,
            "grid_row": null,
            "grid_template_areas": null,
            "grid_template_columns": null,
            "grid_template_rows": null,
            "height": null,
            "justify_content": null,
            "justify_items": null,
            "left": null,
            "margin": null,
            "max_height": null,
            "max_width": null,
            "min_height": null,
            "min_width": null,
            "object_fit": null,
            "object_position": null,
            "order": null,
            "overflow": null,
            "overflow_x": null,
            "overflow_y": null,
            "padding": null,
            "right": null,
            "top": null,
            "visibility": null,
            "width": null
          }
        },
        "a4fcf7b5c2f14908a41499474dcd523a": {
          "model_module": "@jupyter-widgets/controls",
          "model_name": "DescriptionStyleModel",
          "model_module_version": "1.5.0",
          "state": {
            "_model_module": "@jupyter-widgets/controls",
            "_model_module_version": "1.5.0",
            "_model_name": "DescriptionStyleModel",
            "_view_count": null,
            "_view_module": "@jupyter-widgets/base",
            "_view_module_version": "1.2.0",
            "_view_name": "StyleView",
            "description_width": ""
          }
        }
      }
    }
  },
  "cells": [
    {
      "cell_type": "markdown",
      "source": [
        "## Mounting Drive"
      ],
      "metadata": {
        "id": "ZtTPIUBiA9eG"
      }
    },
    {
      "cell_type": "code",
      "execution_count": 1,
      "metadata": {
        "colab": {
          "base_uri": "https://localhost:8080/"
        },
        "id": "JZARwYm_AksK",
        "outputId": "e24f3fcf-4544-49c4-aa76-ea13321e7180"
      },
      "outputs": [
        {
          "output_type": "stream",
          "name": "stdout",
          "text": [
            "Mounted at /content/drive\n"
          ]
        }
      ],
      "source": [
        "from google.colab import drive\n",
        "drive.mount('/content/drive')"
      ]
    },
    {
      "cell_type": "code",
      "source": [
        "import os\n",
        "ROOT = r'/content/drive/Othercomputers/My Laptop/Deep Learning/Working Code'\n",
        "os.chdir(ROOT)\n",
        "assert os.getcwd() == ROOT"
      ],
      "metadata": {
        "id": "_mDxsn7MA_w3"
      },
      "execution_count": 2,
      "outputs": []
    },
    {
      "cell_type": "markdown",
      "source": [
        "## Importing Libraries"
      ],
      "metadata": {
        "id": "fKkYW3zeBUiK"
      }
    },
    {
      "cell_type": "code",
      "source": [
        "!pip install -q transformers"
      ],
      "metadata": {
        "id": "3sXqzyuPC1KH",
        "colab": {
          "base_uri": "https://localhost:8080/"
        },
        "outputId": "1ef4d3c3-61fa-4d50-bd80-d90849bf9a61"
      },
      "execution_count": 3,
      "outputs": [
        {
          "output_type": "stream",
          "name": "stdout",
          "text": [
            "\u001b[K     |████████████████████████████████| 4.0 MB 14.1 MB/s \n",
            "\u001b[K     |████████████████████████████████| 596 kB 62.1 MB/s \n",
            "\u001b[K     |████████████████████████████████| 6.6 MB 58.5 MB/s \n",
            "\u001b[K     |████████████████████████████████| 77 kB 3.5 MB/s \n",
            "\u001b[K     |████████████████████████████████| 895 kB 64.8 MB/s \n",
            "\u001b[?25h"
          ]
        }
      ]
    },
    {
      "cell_type": "code",
      "source": [
        "!pip install -q tensorflow-addons"
      ],
      "metadata": {
        "colab": {
          "base_uri": "https://localhost:8080/"
        },
        "id": "b9KVgnkpgJoa",
        "outputId": "f7e85479-91e7-40be-dd55-2bb340b6e71e"
      },
      "execution_count": 4,
      "outputs": [
        {
          "output_type": "stream",
          "name": "stdout",
          "text": [
            "\u001b[?25l\r\u001b[K     |▎                               | 10 kB 42.4 MB/s eta 0:00:01\r\u001b[K     |▋                               | 20 kB 50.0 MB/s eta 0:00:01\r\u001b[K     |▉                               | 30 kB 25.9 MB/s eta 0:00:01\r\u001b[K     |█▏                              | 40 kB 14.2 MB/s eta 0:00:01\r\u001b[K     |█▌                              | 51 kB 13.5 MB/s eta 0:00:01\r\u001b[K     |█▊                              | 61 kB 15.6 MB/s eta 0:00:01\r\u001b[K     |██                              | 71 kB 14.6 MB/s eta 0:00:01\r\u001b[K     |██▍                             | 81 kB 14.7 MB/s eta 0:00:01\r\u001b[K     |██▋                             | 92 kB 16.0 MB/s eta 0:00:01\r\u001b[K     |███                             | 102 kB 15.6 MB/s eta 0:00:01\r\u001b[K     |███▏                            | 112 kB 15.6 MB/s eta 0:00:01\r\u001b[K     |███▌                            | 122 kB 15.6 MB/s eta 0:00:01\r\u001b[K     |███▉                            | 133 kB 15.6 MB/s eta 0:00:01\r\u001b[K     |████                            | 143 kB 15.6 MB/s eta 0:00:01\r\u001b[K     |████▍                           | 153 kB 15.6 MB/s eta 0:00:01\r\u001b[K     |████▊                           | 163 kB 15.6 MB/s eta 0:00:01\r\u001b[K     |█████                           | 174 kB 15.6 MB/s eta 0:00:01\r\u001b[K     |█████▎                          | 184 kB 15.6 MB/s eta 0:00:01\r\u001b[K     |█████▌                          | 194 kB 15.6 MB/s eta 0:00:01\r\u001b[K     |█████▉                          | 204 kB 15.6 MB/s eta 0:00:01\r\u001b[K     |██████▏                         | 215 kB 15.6 MB/s eta 0:00:01\r\u001b[K     |██████▍                         | 225 kB 15.6 MB/s eta 0:00:01\r\u001b[K     |██████▊                         | 235 kB 15.6 MB/s eta 0:00:01\r\u001b[K     |███████                         | 245 kB 15.6 MB/s eta 0:00:01\r\u001b[K     |███████▎                        | 256 kB 15.6 MB/s eta 0:00:01\r\u001b[K     |███████▋                        | 266 kB 15.6 MB/s eta 0:00:01\r\u001b[K     |███████▉                        | 276 kB 15.6 MB/s eta 0:00:01\r\u001b[K     |████████▏                       | 286 kB 15.6 MB/s eta 0:00:01\r\u001b[K     |████████▌                       | 296 kB 15.6 MB/s eta 0:00:01\r\u001b[K     |████████▊                       | 307 kB 15.6 MB/s eta 0:00:01\r\u001b[K     |█████████                       | 317 kB 15.6 MB/s eta 0:00:01\r\u001b[K     |█████████▍                      | 327 kB 15.6 MB/s eta 0:00:01\r\u001b[K     |█████████▋                      | 337 kB 15.6 MB/s eta 0:00:01\r\u001b[K     |██████████                      | 348 kB 15.6 MB/s eta 0:00:01\r\u001b[K     |██████████▏                     | 358 kB 15.6 MB/s eta 0:00:01\r\u001b[K     |██████████▌                     | 368 kB 15.6 MB/s eta 0:00:01\r\u001b[K     |██████████▉                     | 378 kB 15.6 MB/s eta 0:00:01\r\u001b[K     |███████████                     | 389 kB 15.6 MB/s eta 0:00:01\r\u001b[K     |███████████▍                    | 399 kB 15.6 MB/s eta 0:00:01\r\u001b[K     |███████████▊                    | 409 kB 15.6 MB/s eta 0:00:01\r\u001b[K     |████████████                    | 419 kB 15.6 MB/s eta 0:00:01\r\u001b[K     |████████████▎                   | 430 kB 15.6 MB/s eta 0:00:01\r\u001b[K     |████████████▌                   | 440 kB 15.6 MB/s eta 0:00:01\r\u001b[K     |████████████▉                   | 450 kB 15.6 MB/s eta 0:00:01\r\u001b[K     |█████████████▏                  | 460 kB 15.6 MB/s eta 0:00:01\r\u001b[K     |█████████████▍                  | 471 kB 15.6 MB/s eta 0:00:01\r\u001b[K     |█████████████▊                  | 481 kB 15.6 MB/s eta 0:00:01\r\u001b[K     |██████████████                  | 491 kB 15.6 MB/s eta 0:00:01\r\u001b[K     |██████████████▎                 | 501 kB 15.6 MB/s eta 0:00:01\r\u001b[K     |██████████████▋                 | 512 kB 15.6 MB/s eta 0:00:01\r\u001b[K     |██████████████▉                 | 522 kB 15.6 MB/s eta 0:00:01\r\u001b[K     |███████████████▏                | 532 kB 15.6 MB/s eta 0:00:01\r\u001b[K     |███████████████▌                | 542 kB 15.6 MB/s eta 0:00:01\r\u001b[K     |███████████████▊                | 552 kB 15.6 MB/s eta 0:00:01\r\u001b[K     |████████████████                | 563 kB 15.6 MB/s eta 0:00:01\r\u001b[K     |████████████████▍               | 573 kB 15.6 MB/s eta 0:00:01\r\u001b[K     |████████████████▋               | 583 kB 15.6 MB/s eta 0:00:01\r\u001b[K     |█████████████████               | 593 kB 15.6 MB/s eta 0:00:01\r\u001b[K     |█████████████████▏              | 604 kB 15.6 MB/s eta 0:00:01\r\u001b[K     |█████████████████▌              | 614 kB 15.6 MB/s eta 0:00:01\r\u001b[K     |█████████████████▉              | 624 kB 15.6 MB/s eta 0:00:01\r\u001b[K     |██████████████████              | 634 kB 15.6 MB/s eta 0:00:01\r\u001b[K     |██████████████████▍             | 645 kB 15.6 MB/s eta 0:00:01\r\u001b[K     |██████████████████▊             | 655 kB 15.6 MB/s eta 0:00:01\r\u001b[K     |███████████████████             | 665 kB 15.6 MB/s eta 0:00:01\r\u001b[K     |███████████████████▎            | 675 kB 15.6 MB/s eta 0:00:01\r\u001b[K     |███████████████████▌            | 686 kB 15.6 MB/s eta 0:00:01\r\u001b[K     |███████████████████▉            | 696 kB 15.6 MB/s eta 0:00:01\r\u001b[K     |████████████████████▏           | 706 kB 15.6 MB/s eta 0:00:01\r\u001b[K     |████████████████████▍           | 716 kB 15.6 MB/s eta 0:00:01\r\u001b[K     |████████████████████▊           | 727 kB 15.6 MB/s eta 0:00:01\r\u001b[K     |█████████████████████           | 737 kB 15.6 MB/s eta 0:00:01\r\u001b[K     |█████████████████████▎          | 747 kB 15.6 MB/s eta 0:00:01\r\u001b[K     |█████████████████████▋          | 757 kB 15.6 MB/s eta 0:00:01\r\u001b[K     |█████████████████████▉          | 768 kB 15.6 MB/s eta 0:00:01\r\u001b[K     |██████████████████████▏         | 778 kB 15.6 MB/s eta 0:00:01\r\u001b[K     |██████████████████████▌         | 788 kB 15.6 MB/s eta 0:00:01\r\u001b[K     |██████████████████████▊         | 798 kB 15.6 MB/s eta 0:00:01\r\u001b[K     |███████████████████████         | 808 kB 15.6 MB/s eta 0:00:01\r\u001b[K     |███████████████████████▍        | 819 kB 15.6 MB/s eta 0:00:01\r\u001b[K     |███████████████████████▋        | 829 kB 15.6 MB/s eta 0:00:01\r\u001b[K     |████████████████████████        | 839 kB 15.6 MB/s eta 0:00:01\r\u001b[K     |████████████████████████▏       | 849 kB 15.6 MB/s eta 0:00:01\r\u001b[K     |████████████████████████▌       | 860 kB 15.6 MB/s eta 0:00:01\r\u001b[K     |████████████████████████▉       | 870 kB 15.6 MB/s eta 0:00:01\r\u001b[K     |█████████████████████████       | 880 kB 15.6 MB/s eta 0:00:01\r\u001b[K     |█████████████████████████▍      | 890 kB 15.6 MB/s eta 0:00:01\r\u001b[K     |█████████████████████████▊      | 901 kB 15.6 MB/s eta 0:00:01\r\u001b[K     |██████████████████████████      | 911 kB 15.6 MB/s eta 0:00:01\r\u001b[K     |██████████████████████████▎     | 921 kB 15.6 MB/s eta 0:00:01\r\u001b[K     |██████████████████████████▌     | 931 kB 15.6 MB/s eta 0:00:01\r\u001b[K     |██████████████████████████▉     | 942 kB 15.6 MB/s eta 0:00:01\r\u001b[K     |███████████████████████████▏    | 952 kB 15.6 MB/s eta 0:00:01\r\u001b[K     |███████████████████████████▍    | 962 kB 15.6 MB/s eta 0:00:01\r\u001b[K     |███████████████████████████▊    | 972 kB 15.6 MB/s eta 0:00:01\r\u001b[K     |████████████████████████████    | 983 kB 15.6 MB/s eta 0:00:01\r\u001b[K     |████████████████████████████▎   | 993 kB 15.6 MB/s eta 0:00:01\r\u001b[K     |████████████████████████████▋   | 1.0 MB 15.6 MB/s eta 0:00:01\r\u001b[K     |████████████████████████████▉   | 1.0 MB 15.6 MB/s eta 0:00:01\r\u001b[K     |█████████████████████████████▏  | 1.0 MB 15.6 MB/s eta 0:00:01\r\u001b[K     |█████████████████████████████▌  | 1.0 MB 15.6 MB/s eta 0:00:01\r\u001b[K     |█████████████████████████████▊  | 1.0 MB 15.6 MB/s eta 0:00:01\r\u001b[K     |██████████████████████████████  | 1.1 MB 15.6 MB/s eta 0:00:01\r\u001b[K     |██████████████████████████████▍ | 1.1 MB 15.6 MB/s eta 0:00:01\r\u001b[K     |██████████████████████████████▋ | 1.1 MB 15.6 MB/s eta 0:00:01\r\u001b[K     |███████████████████████████████ | 1.1 MB 15.6 MB/s eta 0:00:01\r\u001b[K     |███████████████████████████████▏| 1.1 MB 15.6 MB/s eta 0:00:01\r\u001b[K     |███████████████████████████████▌| 1.1 MB 15.6 MB/s eta 0:00:01\r\u001b[K     |███████████████████████████████▉| 1.1 MB 15.6 MB/s eta 0:00:01\r\u001b[K     |████████████████████████████████| 1.1 MB 15.6 MB/s \n",
            "\u001b[?25h"
          ]
        }
      ]
    },
    {
      "cell_type": "code",
      "source": [
        "import matplotlib.pyplot as plt\n",
        "import seaborn as sns\n",
        "import numpy as np \n",
        "import pandas as pd \n",
        "import nltk\n",
        "import spacy\n",
        "from wordcloud import WordCloud, STOPWORDS\n",
        "from transformers import AutoTokenizer, AutoConfig, TFAutoModel\n",
        "import tensorflow as tf\n",
        "from tqdm.auto import tqdm\n",
        "nlp = spacy.load(\"en_core_web_sm\")\n",
        "from typing import List, Tuple\n",
        "import keras.backend as K\n",
        "from sklearn.model_selection import train_test_split\n",
        "from sklearn.model_selection import StratifiedKFold\n",
        "import tensorflow_addons as tfa\n",
        "import random\n",
        "import warnings\n",
        "import matplotlib\n",
        "\n",
        "warnings.filterwarnings(\"ignore\")\n",
        "\n",
        "import os"
      ],
      "metadata": {
        "id": "ZqU5pp7-Bd3l"
      },
      "execution_count": 5,
      "outputs": []
    },
    {
      "cell_type": "markdown",
      "source": [
        "## File paths"
      ],
      "metadata": {
        "id": "_yZNTpzHLHxB"
      }
    },
    {
      "cell_type": "code",
      "source": [
        "TRAIN_PATH = \"Dataset/train.csv\"\n",
        "TEST_PATH = \"Dataset/test.csv\"\n",
        "FEATURES_PATH = \"Dataset/features.csv\"\n",
        "PATIENT_NOTES_PATH = \"Dataset/patient_notes.csv\"\n",
        "SAMPLE_SUBMISSION_PATH = \"Dataset/sample_submission.csv\""
      ],
      "metadata": {
        "id": "WWDVKFbFBh9W"
      },
      "execution_count": 6,
      "outputs": []
    },
    {
      "cell_type": "markdown",
      "source": [
        "## Assigning Model Parameters"
      ],
      "metadata": {
        "id": "j8CGXVABLQnz"
      }
    },
    {
      "cell_type": "code",
      "source": [
        "MODEL_NAME = 'microsoft/deberta-base'\n",
        "DATA_PATH = f\"../input/{MODEL_NAME}\"\n",
        "SEQUENCE_LENGTH = 512\n",
        "TOKENIZER_PATH = f'{MODEL_NAME}_tokenizer'\n",
        "BATCH_SIZE = 8\n",
        "AUTOTUNE = tf.data.AUTOTUNE\n",
        "EPOCHS = 20\n",
        "MODEL_CHECKPOINT = f\"model.h5\"\n",
        "LEARNING_RATE = 2e-5\n",
        "CLIP_NORM = 1000"
      ],
      "metadata": {
        "id": "jMt0IGWJBnb8"
      },
      "execution_count": 7,
      "outputs": []
    },
    {
      "cell_type": "markdown",
      "source": [
        "## Setting Seed for training environment"
      ],
      "metadata": {
        "id": "cMKdbYl7LWmE"
      }
    },
    {
      "cell_type": "code",
      "source": [
        "def seed_everything(seed):\n",
        "    os.environ['PYTHONHASHSEED'] = str(seed)\n",
        "    random.seed(seed)\n",
        "    np.random.seed(seed)\n",
        "    tf.random.set_seed(seed)\n",
        "    \n",
        "SEED = 42\n",
        "seed_everything(SEED)"
      ],
      "metadata": {
        "id": "z1Mf7e2_hJ1i"
      },
      "execution_count": 8,
      "outputs": []
    },
    {
      "cell_type": "markdown",
      "source": [
        "## Loading and Displaying Features Dataset"
      ],
      "metadata": {
        "id": "vFiv-azsLbn1"
      }
    },
    {
      "cell_type": "code",
      "source": [
        "features_df = pd.read_csv(FEATURES_PATH)\n",
        "print(f\"Number of rows in features dataframe {len(features_df)}\")\n",
        "features_df.head()"
      ],
      "metadata": {
        "colab": {
          "base_uri": "https://localhost:8080/",
          "height": 224
        },
        "id": "2piyqwXUharB",
        "outputId": "85114629-9cd5-4784-b01c-6b7acefe4e3b"
      },
      "execution_count": 9,
      "outputs": [
        {
          "output_type": "stream",
          "name": "stdout",
          "text": [
            "Number of rows in features dataframe 143\n"
          ]
        },
        {
          "output_type": "execute_result",
          "data": {
            "text/plain": [
              "   feature_num  case_num                                       feature_text\n",
              "0            0         0  Family-history-of-MI-OR-Family-history-of-myoc...\n",
              "1            1         0                 Family-history-of-thyroid-disorder\n",
              "2            2         0                                     Chest-pressure\n",
              "3            3         0                              Intermittent-symptoms\n",
              "4            4         0                                        Lightheaded"
            ],
            "text/html": [
              "\n",
              "  <div id=\"df-f271e2c0-8b12-4878-9729-fd9fc9be9489\">\n",
              "    <div class=\"colab-df-container\">\n",
              "      <div>\n",
              "<style scoped>\n",
              "    .dataframe tbody tr th:only-of-type {\n",
              "        vertical-align: middle;\n",
              "    }\n",
              "\n",
              "    .dataframe tbody tr th {\n",
              "        vertical-align: top;\n",
              "    }\n",
              "\n",
              "    .dataframe thead th {\n",
              "        text-align: right;\n",
              "    }\n",
              "</style>\n",
              "<table border=\"1\" class=\"dataframe\">\n",
              "  <thead>\n",
              "    <tr style=\"text-align: right;\">\n",
              "      <th></th>\n",
              "      <th>feature_num</th>\n",
              "      <th>case_num</th>\n",
              "      <th>feature_text</th>\n",
              "    </tr>\n",
              "  </thead>\n",
              "  <tbody>\n",
              "    <tr>\n",
              "      <th>0</th>\n",
              "      <td>0</td>\n",
              "      <td>0</td>\n",
              "      <td>Family-history-of-MI-OR-Family-history-of-myoc...</td>\n",
              "    </tr>\n",
              "    <tr>\n",
              "      <th>1</th>\n",
              "      <td>1</td>\n",
              "      <td>0</td>\n",
              "      <td>Family-history-of-thyroid-disorder</td>\n",
              "    </tr>\n",
              "    <tr>\n",
              "      <th>2</th>\n",
              "      <td>2</td>\n",
              "      <td>0</td>\n",
              "      <td>Chest-pressure</td>\n",
              "    </tr>\n",
              "    <tr>\n",
              "      <th>3</th>\n",
              "      <td>3</td>\n",
              "      <td>0</td>\n",
              "      <td>Intermittent-symptoms</td>\n",
              "    </tr>\n",
              "    <tr>\n",
              "      <th>4</th>\n",
              "      <td>4</td>\n",
              "      <td>0</td>\n",
              "      <td>Lightheaded</td>\n",
              "    </tr>\n",
              "  </tbody>\n",
              "</table>\n",
              "</div>\n",
              "      <button class=\"colab-df-convert\" onclick=\"convertToInteractive('df-f271e2c0-8b12-4878-9729-fd9fc9be9489')\"\n",
              "              title=\"Convert this dataframe to an interactive table.\"\n",
              "              style=\"display:none;\">\n",
              "        \n",
              "  <svg xmlns=\"http://www.w3.org/2000/svg\" height=\"24px\"viewBox=\"0 0 24 24\"\n",
              "       width=\"24px\">\n",
              "    <path d=\"M0 0h24v24H0V0z\" fill=\"none\"/>\n",
              "    <path d=\"M18.56 5.44l.94 2.06.94-2.06 2.06-.94-2.06-.94-.94-2.06-.94 2.06-2.06.94zm-11 1L8.5 8.5l.94-2.06 2.06-.94-2.06-.94L8.5 2.5l-.94 2.06-2.06.94zm10 10l.94 2.06.94-2.06 2.06-.94-2.06-.94-.94-2.06-.94 2.06-2.06.94z\"/><path d=\"M17.41 7.96l-1.37-1.37c-.4-.4-.92-.59-1.43-.59-.52 0-1.04.2-1.43.59L10.3 9.45l-7.72 7.72c-.78.78-.78 2.05 0 2.83L4 21.41c.39.39.9.59 1.41.59.51 0 1.02-.2 1.41-.59l7.78-7.78 2.81-2.81c.8-.78.8-2.07 0-2.86zM5.41 20L4 18.59l7.72-7.72 1.47 1.35L5.41 20z\"/>\n",
              "  </svg>\n",
              "      </button>\n",
              "      \n",
              "  <style>\n",
              "    .colab-df-container {\n",
              "      display:flex;\n",
              "      flex-wrap:wrap;\n",
              "      gap: 12px;\n",
              "    }\n",
              "\n",
              "    .colab-df-convert {\n",
              "      background-color: #E8F0FE;\n",
              "      border: none;\n",
              "      border-radius: 50%;\n",
              "      cursor: pointer;\n",
              "      display: none;\n",
              "      fill: #1967D2;\n",
              "      height: 32px;\n",
              "      padding: 0 0 0 0;\n",
              "      width: 32px;\n",
              "    }\n",
              "\n",
              "    .colab-df-convert:hover {\n",
              "      background-color: #E2EBFA;\n",
              "      box-shadow: 0px 1px 2px rgba(60, 64, 67, 0.3), 0px 1px 3px 1px rgba(60, 64, 67, 0.15);\n",
              "      fill: #174EA6;\n",
              "    }\n",
              "\n",
              "    [theme=dark] .colab-df-convert {\n",
              "      background-color: #3B4455;\n",
              "      fill: #D2E3FC;\n",
              "    }\n",
              "\n",
              "    [theme=dark] .colab-df-convert:hover {\n",
              "      background-color: #434B5C;\n",
              "      box-shadow: 0px 1px 3px 1px rgba(0, 0, 0, 0.15);\n",
              "      filter: drop-shadow(0px 1px 2px rgba(0, 0, 0, 0.3));\n",
              "      fill: #FFFFFF;\n",
              "    }\n",
              "  </style>\n",
              "\n",
              "      <script>\n",
              "        const buttonEl =\n",
              "          document.querySelector('#df-f271e2c0-8b12-4878-9729-fd9fc9be9489 button.colab-df-convert');\n",
              "        buttonEl.style.display =\n",
              "          google.colab.kernel.accessAllowed ? 'block' : 'none';\n",
              "\n",
              "        async function convertToInteractive(key) {\n",
              "          const element = document.querySelector('#df-f271e2c0-8b12-4878-9729-fd9fc9be9489');\n",
              "          const dataTable =\n",
              "            await google.colab.kernel.invokeFunction('convertToInteractive',\n",
              "                                                     [key], {});\n",
              "          if (!dataTable) return;\n",
              "\n",
              "          const docLinkHtml = 'Like what you see? Visit the ' +\n",
              "            '<a target=\"_blank\" href=https://colab.research.google.com/notebooks/data_table.ipynb>data table notebook</a>'\n",
              "            + ' to learn more about interactive tables.';\n",
              "          element.innerHTML = '';\n",
              "          dataTable['output_type'] = 'display_data';\n",
              "          await google.colab.output.renderOutput(dataTable, element);\n",
              "          const docLink = document.createElement('div');\n",
              "          docLink.innerHTML = docLinkHtml;\n",
              "          element.appendChild(docLink);\n",
              "        }\n",
              "      </script>\n",
              "    </div>\n",
              "  </div>\n",
              "  "
            ]
          },
          "metadata": {},
          "execution_count": 9
        }
      ]
    },
    {
      "cell_type": "markdown",
      "source": [
        "## Loading and Displaying Patients Dataset"
      ],
      "metadata": {
        "id": "vC-zU2_dLlxZ"
      }
    },
    {
      "cell_type": "code",
      "source": [
        "patient_notes_df = pd.read_csv(PATIENT_NOTES_PATH)\n",
        "print(f\"Number of rows in patient notes dataframe {len(patient_notes_df)}\")\n",
        "patient_notes_df.head()"
      ],
      "metadata": {
        "colab": {
          "base_uri": "https://localhost:8080/",
          "height": 224
        },
        "id": "mDy7YBgnhiKy",
        "outputId": "2b6a1dd3-a28e-435f-f8f1-3865ce6627e0"
      },
      "execution_count": 11,
      "outputs": [
        {
          "output_type": "stream",
          "name": "stdout",
          "text": [
            "Number of rows in patient notes dataframe 42146\n"
          ]
        },
        {
          "output_type": "execute_result",
          "data": {
            "text/plain": [
              "   pn_num  case_num                                         pn_history\n",
              "0       0         0  17-year-old male, has come to the student heal...\n",
              "1       1         0  17 yo male with recurrent palpitations for the...\n",
              "2       2         0  Dillon Cleveland is a 17 y.o. male patient wit...\n",
              "3       3         0  a 17 yo m c/o palpitation started 3 mos ago; \\...\n",
              "4       4         0  17yo male with no pmh here for evaluation of p..."
            ],
            "text/html": [
              "\n",
              "  <div id=\"df-bbb01ad9-54ea-405d-9009-b2e7be04042e\">\n",
              "    <div class=\"colab-df-container\">\n",
              "      <div>\n",
              "<style scoped>\n",
              "    .dataframe tbody tr th:only-of-type {\n",
              "        vertical-align: middle;\n",
              "    }\n",
              "\n",
              "    .dataframe tbody tr th {\n",
              "        vertical-align: top;\n",
              "    }\n",
              "\n",
              "    .dataframe thead th {\n",
              "        text-align: right;\n",
              "    }\n",
              "</style>\n",
              "<table border=\"1\" class=\"dataframe\">\n",
              "  <thead>\n",
              "    <tr style=\"text-align: right;\">\n",
              "      <th></th>\n",
              "      <th>pn_num</th>\n",
              "      <th>case_num</th>\n",
              "      <th>pn_history</th>\n",
              "    </tr>\n",
              "  </thead>\n",
              "  <tbody>\n",
              "    <tr>\n",
              "      <th>0</th>\n",
              "      <td>0</td>\n",
              "      <td>0</td>\n",
              "      <td>17-year-old male, has come to the student heal...</td>\n",
              "    </tr>\n",
              "    <tr>\n",
              "      <th>1</th>\n",
              "      <td>1</td>\n",
              "      <td>0</td>\n",
              "      <td>17 yo male with recurrent palpitations for the...</td>\n",
              "    </tr>\n",
              "    <tr>\n",
              "      <th>2</th>\n",
              "      <td>2</td>\n",
              "      <td>0</td>\n",
              "      <td>Dillon Cleveland is a 17 y.o. male patient wit...</td>\n",
              "    </tr>\n",
              "    <tr>\n",
              "      <th>3</th>\n",
              "      <td>3</td>\n",
              "      <td>0</td>\n",
              "      <td>a 17 yo m c/o palpitation started 3 mos ago; \\...</td>\n",
              "    </tr>\n",
              "    <tr>\n",
              "      <th>4</th>\n",
              "      <td>4</td>\n",
              "      <td>0</td>\n",
              "      <td>17yo male with no pmh here for evaluation of p...</td>\n",
              "    </tr>\n",
              "  </tbody>\n",
              "</table>\n",
              "</div>\n",
              "      <button class=\"colab-df-convert\" onclick=\"convertToInteractive('df-bbb01ad9-54ea-405d-9009-b2e7be04042e')\"\n",
              "              title=\"Convert this dataframe to an interactive table.\"\n",
              "              style=\"display:none;\">\n",
              "        \n",
              "  <svg xmlns=\"http://www.w3.org/2000/svg\" height=\"24px\"viewBox=\"0 0 24 24\"\n",
              "       width=\"24px\">\n",
              "    <path d=\"M0 0h24v24H0V0z\" fill=\"none\"/>\n",
              "    <path d=\"M18.56 5.44l.94 2.06.94-2.06 2.06-.94-2.06-.94-.94-2.06-.94 2.06-2.06.94zm-11 1L8.5 8.5l.94-2.06 2.06-.94-2.06-.94L8.5 2.5l-.94 2.06-2.06.94zm10 10l.94 2.06.94-2.06 2.06-.94-2.06-.94-.94-2.06-.94 2.06-2.06.94z\"/><path d=\"M17.41 7.96l-1.37-1.37c-.4-.4-.92-.59-1.43-.59-.52 0-1.04.2-1.43.59L10.3 9.45l-7.72 7.72c-.78.78-.78 2.05 0 2.83L4 21.41c.39.39.9.59 1.41.59.51 0 1.02-.2 1.41-.59l7.78-7.78 2.81-2.81c.8-.78.8-2.07 0-2.86zM5.41 20L4 18.59l7.72-7.72 1.47 1.35L5.41 20z\"/>\n",
              "  </svg>\n",
              "      </button>\n",
              "      \n",
              "  <style>\n",
              "    .colab-df-container {\n",
              "      display:flex;\n",
              "      flex-wrap:wrap;\n",
              "      gap: 12px;\n",
              "    }\n",
              "\n",
              "    .colab-df-convert {\n",
              "      background-color: #E8F0FE;\n",
              "      border: none;\n",
              "      border-radius: 50%;\n",
              "      cursor: pointer;\n",
              "      display: none;\n",
              "      fill: #1967D2;\n",
              "      height: 32px;\n",
              "      padding: 0 0 0 0;\n",
              "      width: 32px;\n",
              "    }\n",
              "\n",
              "    .colab-df-convert:hover {\n",
              "      background-color: #E2EBFA;\n",
              "      box-shadow: 0px 1px 2px rgba(60, 64, 67, 0.3), 0px 1px 3px 1px rgba(60, 64, 67, 0.15);\n",
              "      fill: #174EA6;\n",
              "    }\n",
              "\n",
              "    [theme=dark] .colab-df-convert {\n",
              "      background-color: #3B4455;\n",
              "      fill: #D2E3FC;\n",
              "    }\n",
              "\n",
              "    [theme=dark] .colab-df-convert:hover {\n",
              "      background-color: #434B5C;\n",
              "      box-shadow: 0px 1px 3px 1px rgba(0, 0, 0, 0.15);\n",
              "      filter: drop-shadow(0px 1px 2px rgba(0, 0, 0, 0.3));\n",
              "      fill: #FFFFFF;\n",
              "    }\n",
              "  </style>\n",
              "\n",
              "      <script>\n",
              "        const buttonEl =\n",
              "          document.querySelector('#df-bbb01ad9-54ea-405d-9009-b2e7be04042e button.colab-df-convert');\n",
              "        buttonEl.style.display =\n",
              "          google.colab.kernel.accessAllowed ? 'block' : 'none';\n",
              "\n",
              "        async function convertToInteractive(key) {\n",
              "          const element = document.querySelector('#df-bbb01ad9-54ea-405d-9009-b2e7be04042e');\n",
              "          const dataTable =\n",
              "            await google.colab.kernel.invokeFunction('convertToInteractive',\n",
              "                                                     [key], {});\n",
              "          if (!dataTable) return;\n",
              "\n",
              "          const docLinkHtml = 'Like what you see? Visit the ' +\n",
              "            '<a target=\"_blank\" href=https://colab.research.google.com/notebooks/data_table.ipynb>data table notebook</a>'\n",
              "            + ' to learn more about interactive tables.';\n",
              "          element.innerHTML = '';\n",
              "          dataTable['output_type'] = 'display_data';\n",
              "          await google.colab.output.renderOutput(dataTable, element);\n",
              "          const docLink = document.createElement('div');\n",
              "          docLink.innerHTML = docLinkHtml;\n",
              "          element.appendChild(docLink);\n",
              "        }\n",
              "      </script>\n",
              "    </div>\n",
              "  </div>\n",
              "  "
            ]
          },
          "metadata": {},
          "execution_count": 11
        }
      ]
    },
    {
      "cell_type": "markdown",
      "source": [
        "## Loading and Displaying Train Dataset"
      ],
      "metadata": {
        "id": "RHoC2jVbLpOO"
      }
    },
    {
      "cell_type": "code",
      "source": [
        "train_df = pd.read_csv(TRAIN_PATH)\n",
        "print(f\"Number of rows train dataframe {len(train_df)}\")\n",
        "train_df.head()"
      ],
      "metadata": {
        "colab": {
          "base_uri": "https://localhost:8080/",
          "height": 224
        },
        "id": "VdSqnuXEhkEO",
        "outputId": "ce11f974-2f43-4e4a-b518-03320190442a"
      },
      "execution_count": 12,
      "outputs": [
        {
          "output_type": "stream",
          "name": "stdout",
          "text": [
            "Number of rows train dataframe 14300\n"
          ]
        },
        {
          "output_type": "execute_result",
          "data": {
            "text/plain": [
              "          id  case_num  pn_num  feature_num  \\\n",
              "0  00016_000         0      16            0   \n",
              "1  00016_001         0      16            1   \n",
              "2  00016_002         0      16            2   \n",
              "3  00016_003         0      16            3   \n",
              "4  00016_004         0      16            4   \n",
              "\n",
              "                                 annotation              location  \n",
              "0          ['dad with recent heart attcak']           ['696 724']  \n",
              "1             ['mom with \"thyroid disease']           ['668 693']  \n",
              "2                        ['chest pressure']           ['203 217']  \n",
              "3      ['intermittent episodes', 'episode']  ['70 91', '176 183']  \n",
              "4  ['felt as if he were going to pass out']           ['222 258']  "
            ],
            "text/html": [
              "\n",
              "  <div id=\"df-0b653ea0-d28d-4696-a6aa-829fd80a485f\">\n",
              "    <div class=\"colab-df-container\">\n",
              "      <div>\n",
              "<style scoped>\n",
              "    .dataframe tbody tr th:only-of-type {\n",
              "        vertical-align: middle;\n",
              "    }\n",
              "\n",
              "    .dataframe tbody tr th {\n",
              "        vertical-align: top;\n",
              "    }\n",
              "\n",
              "    .dataframe thead th {\n",
              "        text-align: right;\n",
              "    }\n",
              "</style>\n",
              "<table border=\"1\" class=\"dataframe\">\n",
              "  <thead>\n",
              "    <tr style=\"text-align: right;\">\n",
              "      <th></th>\n",
              "      <th>id</th>\n",
              "      <th>case_num</th>\n",
              "      <th>pn_num</th>\n",
              "      <th>feature_num</th>\n",
              "      <th>annotation</th>\n",
              "      <th>location</th>\n",
              "    </tr>\n",
              "  </thead>\n",
              "  <tbody>\n",
              "    <tr>\n",
              "      <th>0</th>\n",
              "      <td>00016_000</td>\n",
              "      <td>0</td>\n",
              "      <td>16</td>\n",
              "      <td>0</td>\n",
              "      <td>['dad with recent heart attcak']</td>\n",
              "      <td>['696 724']</td>\n",
              "    </tr>\n",
              "    <tr>\n",
              "      <th>1</th>\n",
              "      <td>00016_001</td>\n",
              "      <td>0</td>\n",
              "      <td>16</td>\n",
              "      <td>1</td>\n",
              "      <td>['mom with \"thyroid disease']</td>\n",
              "      <td>['668 693']</td>\n",
              "    </tr>\n",
              "    <tr>\n",
              "      <th>2</th>\n",
              "      <td>00016_002</td>\n",
              "      <td>0</td>\n",
              "      <td>16</td>\n",
              "      <td>2</td>\n",
              "      <td>['chest pressure']</td>\n",
              "      <td>['203 217']</td>\n",
              "    </tr>\n",
              "    <tr>\n",
              "      <th>3</th>\n",
              "      <td>00016_003</td>\n",
              "      <td>0</td>\n",
              "      <td>16</td>\n",
              "      <td>3</td>\n",
              "      <td>['intermittent episodes', 'episode']</td>\n",
              "      <td>['70 91', '176 183']</td>\n",
              "    </tr>\n",
              "    <tr>\n",
              "      <th>4</th>\n",
              "      <td>00016_004</td>\n",
              "      <td>0</td>\n",
              "      <td>16</td>\n",
              "      <td>4</td>\n",
              "      <td>['felt as if he were going to pass out']</td>\n",
              "      <td>['222 258']</td>\n",
              "    </tr>\n",
              "  </tbody>\n",
              "</table>\n",
              "</div>\n",
              "      <button class=\"colab-df-convert\" onclick=\"convertToInteractive('df-0b653ea0-d28d-4696-a6aa-829fd80a485f')\"\n",
              "              title=\"Convert this dataframe to an interactive table.\"\n",
              "              style=\"display:none;\">\n",
              "        \n",
              "  <svg xmlns=\"http://www.w3.org/2000/svg\" height=\"24px\"viewBox=\"0 0 24 24\"\n",
              "       width=\"24px\">\n",
              "    <path d=\"M0 0h24v24H0V0z\" fill=\"none\"/>\n",
              "    <path d=\"M18.56 5.44l.94 2.06.94-2.06 2.06-.94-2.06-.94-.94-2.06-.94 2.06-2.06.94zm-11 1L8.5 8.5l.94-2.06 2.06-.94-2.06-.94L8.5 2.5l-.94 2.06-2.06.94zm10 10l.94 2.06.94-2.06 2.06-.94-2.06-.94-.94-2.06-.94 2.06-2.06.94z\"/><path d=\"M17.41 7.96l-1.37-1.37c-.4-.4-.92-.59-1.43-.59-.52 0-1.04.2-1.43.59L10.3 9.45l-7.72 7.72c-.78.78-.78 2.05 0 2.83L4 21.41c.39.39.9.59 1.41.59.51 0 1.02-.2 1.41-.59l7.78-7.78 2.81-2.81c.8-.78.8-2.07 0-2.86zM5.41 20L4 18.59l7.72-7.72 1.47 1.35L5.41 20z\"/>\n",
              "  </svg>\n",
              "      </button>\n",
              "      \n",
              "  <style>\n",
              "    .colab-df-container {\n",
              "      display:flex;\n",
              "      flex-wrap:wrap;\n",
              "      gap: 12px;\n",
              "    }\n",
              "\n",
              "    .colab-df-convert {\n",
              "      background-color: #E8F0FE;\n",
              "      border: none;\n",
              "      border-radius: 50%;\n",
              "      cursor: pointer;\n",
              "      display: none;\n",
              "      fill: #1967D2;\n",
              "      height: 32px;\n",
              "      padding: 0 0 0 0;\n",
              "      width: 32px;\n",
              "    }\n",
              "\n",
              "    .colab-df-convert:hover {\n",
              "      background-color: #E2EBFA;\n",
              "      box-shadow: 0px 1px 2px rgba(60, 64, 67, 0.3), 0px 1px 3px 1px rgba(60, 64, 67, 0.15);\n",
              "      fill: #174EA6;\n",
              "    }\n",
              "\n",
              "    [theme=dark] .colab-df-convert {\n",
              "      background-color: #3B4455;\n",
              "      fill: #D2E3FC;\n",
              "    }\n",
              "\n",
              "    [theme=dark] .colab-df-convert:hover {\n",
              "      background-color: #434B5C;\n",
              "      box-shadow: 0px 1px 3px 1px rgba(0, 0, 0, 0.15);\n",
              "      filter: drop-shadow(0px 1px 2px rgba(0, 0, 0, 0.3));\n",
              "      fill: #FFFFFF;\n",
              "    }\n",
              "  </style>\n",
              "\n",
              "      <script>\n",
              "        const buttonEl =\n",
              "          document.querySelector('#df-0b653ea0-d28d-4696-a6aa-829fd80a485f button.colab-df-convert');\n",
              "        buttonEl.style.display =\n",
              "          google.colab.kernel.accessAllowed ? 'block' : 'none';\n",
              "\n",
              "        async function convertToInteractive(key) {\n",
              "          const element = document.querySelector('#df-0b653ea0-d28d-4696-a6aa-829fd80a485f');\n",
              "          const dataTable =\n",
              "            await google.colab.kernel.invokeFunction('convertToInteractive',\n",
              "                                                     [key], {});\n",
              "          if (!dataTable) return;\n",
              "\n",
              "          const docLinkHtml = 'Like what you see? Visit the ' +\n",
              "            '<a target=\"_blank\" href=https://colab.research.google.com/notebooks/data_table.ipynb>data table notebook</a>'\n",
              "            + ' to learn more about interactive tables.';\n",
              "          element.innerHTML = '';\n",
              "          dataTable['output_type'] = 'display_data';\n",
              "          await google.colab.output.renderOutput(dataTable, element);\n",
              "          const docLink = document.createElement('div');\n",
              "          docLink.innerHTML = docLinkHtml;\n",
              "          element.appendChild(docLink);\n",
              "        }\n",
              "      </script>\n",
              "    </div>\n",
              "  </div>\n",
              "  "
            ]
          },
          "metadata": {},
          "execution_count": 12
        }
      ]
    },
    {
      "cell_type": "markdown",
      "source": [
        "## Loading Auto Tokenizer from pretrained model"
      ],
      "metadata": {
        "id": "Sd8VZNNCL5b8"
      }
    },
    {
      "cell_type": "code",
      "source": [
        "tokenizer = AutoTokenizer.from_pretrained(MODEL_NAME)\n",
        "tokenizer.save_pretrained(f'{TOKENIZER_PATH}')\n",
        "\n",
        "config = AutoConfig.from_pretrained(MODEL_NAME)\n",
        "config.save_pretrained(f'{TOKENIZER_PATH}')"
      ],
      "metadata": {
        "colab": {
          "base_uri": "https://localhost:8080/",
          "height": 145,
          "referenced_widgets": [
            "91ac650cedfe42fd8a8e51efc20f05ed",
            "46aee2f565b94b5a970b36f3f3a59cfb",
            "7a978d34f3184359b1f47017a88bff7e",
            "17d6ffb3bfad44c58dae57f97e4a07f2",
            "ef494b5733284668a0cd7155f0f1bc9e",
            "fac7b448f12a4c4eb526812a9e2c12a2",
            "6d2c6a8bcf7a46c4bc6739e50d270f6e",
            "e5ef099cd32c466f9c1f63bf0a9ef14f",
            "da19db6e45594faa91ee5e1f0c90fa37",
            "d8d980e182bf45d5a01147a4da9ade5a",
            "0bedefe11d484c409191c621e1866f46",
            "3841360e86eb4292bef4e712c18c77c9",
            "fa0510930ae6471fa43190e811384413",
            "8502190440134deaa04f61c4a4f02ca6",
            "fb984c19cfb44c9db459571c5bacc451",
            "39d2558f178544a2b411897d63c86e23",
            "12bf7ad0375044ffbefd89442854654b",
            "835b8d99814742699408d41b390b3d1d",
            "738807322ae3472a87066bd51463af03",
            "eec09ac456cf45b98111306bf18bcf39",
            "11cfb9e002284b749ae0525b41a9fef7",
            "761708d1ab8440b9ac76d61f99ecb8bc",
            "642a56eb44964909a06b4196407d0ac6",
            "e7d1a16fcef3469885b1854710e80c68",
            "657f38489f064f2880ebfaaea2e753e5",
            "fc97dc1699f34828b031d72aef401bff",
            "930ffc45d84243efbd77a1518defc12a",
            "0ddbc787fb39410db81633f4e81a38d9",
            "de5123e2afed435f8792e62403d3ead5",
            "6a14ee2de60b4ae3b2447ac790244f8c",
            "5f6f951a8e314640bcf999a45ef62393",
            "7e7c27ce9ba44115b40264dc28635f93",
            "10a79b6648064ca78e4d0b155e43a789",
            "ec23f10eed524d30b9c7abc8291cd3f7",
            "1d2293923685485db3f5f190380fc9dc",
            "442d94ab2a5c4effa8c462e50e2a245d",
            "edc8607ca3564da4bb49543697bad1d5",
            "37dd9df9eaf342ef82c06d3a6aac7d86",
            "6c933fa37d70418489afe46a267b1dcf",
            "8f48c31f39b74b70a8eedd3dac18b035",
            "272a38a48acc49f1a0bc3fa2bde1e44b",
            "d5024232165e463f82842d3e51287653",
            "77b1fd48e99e4e6ab8f8d1490a169872",
            "5d84295cb9594696b1f247b5e0af2613"
          ]
        },
        "id": "uSaUjm15fOTR",
        "outputId": "7af032ae-ae57-4752-8218-df0f68713253"
      },
      "execution_count": 16,
      "outputs": [
        {
          "output_type": "display_data",
          "data": {
            "text/plain": [
              "Downloading:   0%|          | 0.00/52.0 [00:00<?, ?B/s]"
            ],
            "application/vnd.jupyter.widget-view+json": {
              "version_major": 2,
              "version_minor": 0,
              "model_id": "91ac650cedfe42fd8a8e51efc20f05ed"
            }
          },
          "metadata": {}
        },
        {
          "output_type": "display_data",
          "data": {
            "text/plain": [
              "Downloading:   0%|          | 0.00/474 [00:00<?, ?B/s]"
            ],
            "application/vnd.jupyter.widget-view+json": {
              "version_major": 2,
              "version_minor": 0,
              "model_id": "3841360e86eb4292bef4e712c18c77c9"
            }
          },
          "metadata": {}
        },
        {
          "output_type": "display_data",
          "data": {
            "text/plain": [
              "Downloading:   0%|          | 0.00/878k [00:00<?, ?B/s]"
            ],
            "application/vnd.jupyter.widget-view+json": {
              "version_major": 2,
              "version_minor": 0,
              "model_id": "642a56eb44964909a06b4196407d0ac6"
            }
          },
          "metadata": {}
        },
        {
          "output_type": "display_data",
          "data": {
            "text/plain": [
              "Downloading:   0%|          | 0.00/446k [00:00<?, ?B/s]"
            ],
            "application/vnd.jupyter.widget-view+json": {
              "version_major": 2,
              "version_minor": 0,
              "model_id": "ec23f10eed524d30b9c7abc8291cd3f7"
            }
          },
          "metadata": {}
        }
      ]
    },
    {
      "cell_type": "markdown",
      "source": [
        "## Creating Model"
      ],
      "metadata": {
        "id": "XzAtVpAtMC_x"
      }
    },
    {
      "cell_type": "code",
      "source": [
        "def create_model() -> tf.keras.Model:\n",
        "    input_tokens = tf.keras.layers.Input(shape=(SEQUENCE_LENGTH,), dtype=tf.int32)\n",
        "    attention_mask = tf.keras.layers.Input(shape=(SEQUENCE_LENGTH,), dtype=tf.int32)\n",
        "\n",
        "    config = AutoConfig.from_pretrained(MODEL_NAME, output_hidden_states=True)\n",
        "    backbone = TFAutoModel.from_pretrained(MODEL_NAME, config=config)\n",
        "\n",
        "    out = backbone(input_tokens, attention_mask=attention_mask)[0]\n",
        "    out = tf.keras.layers.Dropout(0.2)(out)\n",
        "    out = tf.keras.layers.Dense(1, activation='sigmoid')(out)\n",
        "\n",
        "    return tf.keras.Model(inputs=[input_tokens, attention_mask], outputs=out)"
      ],
      "metadata": {
        "id": "xlv-DLu8fQRa"
      },
      "execution_count": 17,
      "outputs": []
    },
    {
      "cell_type": "code",
      "source": [
        "model = create_model()\n",
        "model.summary()"
      ],
      "metadata": {
        "colab": {
          "base_uri": "https://localhost:8080/",
          "height": 763,
          "referenced_widgets": [
            "6c145795afb0475b81d9d2ca099a745c",
            "5d4d407713ef4b48861445672c79886f",
            "0bfc3c15bb0047b3a2c913843171b38f",
            "4aca352d2fc04d33bbba0cf2183dd6db",
            "6eb1feee7a834046a546f3fd8b2854c7",
            "b5a9c744cc894921a8adb86681dbf195",
            "2f127913154b43768306e3b345c4c457",
            "bb313495672840d5b5dd96a4f9d750cf",
            "d8341a490c4b4fca9f446f2f0d27ccbb",
            "bec7c68d72a1479fab928875a5d22956",
            "a4fcf7b5c2f14908a41499474dcd523a"
          ]
        },
        "id": "NhV_0j9UfRpP",
        "outputId": "8b29701f-7d83-4334-c18c-5b8e26fbd1e8"
      },
      "execution_count": 18,
      "outputs": [
        {
          "output_type": "display_data",
          "data": {
            "text/plain": [
              "Downloading:   0%|          | 0.00/529M [00:00<?, ?B/s]"
            ],
            "application/vnd.jupyter.widget-view+json": {
              "version_major": 2,
              "version_minor": 0,
              "model_id": "6c145795afb0475b81d9d2ca099a745c"
            }
          },
          "metadata": {}
        },
        {
          "output_type": "stream",
          "name": "stderr",
          "text": [
            "All model checkpoint layers were used when initializing TFDebertaModel.\n",
            "\n",
            "All the layers of TFDebertaModel were initialized from the model checkpoint at microsoft/deberta-base.\n",
            "If your task is similar to the task the model of the checkpoint was trained on, you can already use TFDebertaModel for predictions without further training.\n"
          ]
        },
        {
          "output_type": "stream",
          "name": "stdout",
          "text": [
            "Model: \"model\"\n",
            "__________________________________________________________________________________________________\n",
            " Layer (type)                   Output Shape         Param #     Connected to                     \n",
            "==================================================================================================\n",
            " input_1 (InputLayer)           [(None, 512)]        0           []                               \n",
            "                                                                                                  \n",
            " input_2 (InputLayer)           [(None, 512)]        0           []                               \n",
            "                                                                                                  \n",
            " tf_deberta_model (TFDebertaMod  TFBaseModelOutput(l  138601728  ['input_1[0][0]',                \n",
            " el)                            ast_hidden_state=(N               'input_2[0][0]']                \n",
            "                                one, 512, 768),                                                   \n",
            "                                 hidden_states=((No                                               \n",
            "                                ne, 512, 768),                                                    \n",
            "                                 (None, 512, 768),                                                \n",
            "                                 (None, 512, 768),                                                \n",
            "                                 (None, 512, 768),                                                \n",
            "                                 (None, 512, 768),                                                \n",
            "                                 (None, 512, 768),                                                \n",
            "                                 (None, 512, 768),                                                \n",
            "                                 (None, 512, 768),                                                \n",
            "                                 (None, 512, 768),                                                \n",
            "                                 (None, 512, 768),                                                \n",
            "                                 (None, 512, 768),                                                \n",
            "                                 (None, 512, 768),                                                \n",
            "                                 (None, 512, 768)),                                               \n",
            "                                 attentions=None)                                                 \n",
            "                                                                                                  \n",
            " dropout (Dropout)              (None, 512, 768)     0           ['tf_deberta_model[0][13]']      \n",
            "                                                                                                  \n",
            " dense (Dense)                  (None, 512, 1)       769         ['dropout[0][0]']                \n",
            "                                                                                                  \n",
            "==================================================================================================\n",
            "Total params: 138,602,497\n",
            "Trainable params: 138,602,497\n",
            "Non-trainable params: 0\n",
            "__________________________________________________________________________________________________\n"
          ]
        }
      ]
    },
    {
      "cell_type": "markdown",
      "source": [
        "## Merging different datasets to create Train dataframe"
      ],
      "metadata": {
        "id": "53JlbRpDMFf4"
      }
    },
    {
      "cell_type": "code",
      "source": [
        "train = train_df.merge(features_df, on=['feature_num', 'case_num'], how='left')\n",
        "train = train.merge(patient_notes_df, on=['pn_num', 'case_num'], how='left')\n",
        "train['annotation_length'] = train['annotation'].apply(len)\n",
        "\n",
        "train.head()"
      ],
      "metadata": {
        "colab": {
          "base_uri": "https://localhost:8080/",
          "height": 337
        },
        "id": "ssU0FTXqfTmH",
        "outputId": "edd523aa-81cc-49ec-e33c-b1692b119813"
      },
      "execution_count": 19,
      "outputs": [
        {
          "output_type": "execute_result",
          "data": {
            "text/plain": [
              "          id  case_num  pn_num  feature_num  \\\n",
              "0  00016_000         0      16            0   \n",
              "1  00016_001         0      16            1   \n",
              "2  00016_002         0      16            2   \n",
              "3  00016_003         0      16            3   \n",
              "4  00016_004         0      16            4   \n",
              "\n",
              "                                 annotation              location  \\\n",
              "0          ['dad with recent heart attcak']           ['696 724']   \n",
              "1             ['mom with \"thyroid disease']           ['668 693']   \n",
              "2                        ['chest pressure']           ['203 217']   \n",
              "3      ['intermittent episodes', 'episode']  ['70 91', '176 183']   \n",
              "4  ['felt as if he were going to pass out']           ['222 258']   \n",
              "\n",
              "                                        feature_text  \\\n",
              "0  Family-history-of-MI-OR-Family-history-of-myoc...   \n",
              "1                 Family-history-of-thyroid-disorder   \n",
              "2                                     Chest-pressure   \n",
              "3                              Intermittent-symptoms   \n",
              "4                                        Lightheaded   \n",
              "\n",
              "                                          pn_history  annotation_length  \n",
              "0  HPI: 17yo M presents with palpitations. Patien...                 32  \n",
              "1  HPI: 17yo M presents with palpitations. Patien...                 29  \n",
              "2  HPI: 17yo M presents with palpitations. Patien...                 18  \n",
              "3  HPI: 17yo M presents with palpitations. Patien...                 36  \n",
              "4  HPI: 17yo M presents with palpitations. Patien...                 40  "
            ],
            "text/html": [
              "\n",
              "  <div id=\"df-abbb345b-01ca-4fd3-8c46-5fd23e62309d\">\n",
              "    <div class=\"colab-df-container\">\n",
              "      <div>\n",
              "<style scoped>\n",
              "    .dataframe tbody tr th:only-of-type {\n",
              "        vertical-align: middle;\n",
              "    }\n",
              "\n",
              "    .dataframe tbody tr th {\n",
              "        vertical-align: top;\n",
              "    }\n",
              "\n",
              "    .dataframe thead th {\n",
              "        text-align: right;\n",
              "    }\n",
              "</style>\n",
              "<table border=\"1\" class=\"dataframe\">\n",
              "  <thead>\n",
              "    <tr style=\"text-align: right;\">\n",
              "      <th></th>\n",
              "      <th>id</th>\n",
              "      <th>case_num</th>\n",
              "      <th>pn_num</th>\n",
              "      <th>feature_num</th>\n",
              "      <th>annotation</th>\n",
              "      <th>location</th>\n",
              "      <th>feature_text</th>\n",
              "      <th>pn_history</th>\n",
              "      <th>annotation_length</th>\n",
              "    </tr>\n",
              "  </thead>\n",
              "  <tbody>\n",
              "    <tr>\n",
              "      <th>0</th>\n",
              "      <td>00016_000</td>\n",
              "      <td>0</td>\n",
              "      <td>16</td>\n",
              "      <td>0</td>\n",
              "      <td>['dad with recent heart attcak']</td>\n",
              "      <td>['696 724']</td>\n",
              "      <td>Family-history-of-MI-OR-Family-history-of-myoc...</td>\n",
              "      <td>HPI: 17yo M presents with palpitations. Patien...</td>\n",
              "      <td>32</td>\n",
              "    </tr>\n",
              "    <tr>\n",
              "      <th>1</th>\n",
              "      <td>00016_001</td>\n",
              "      <td>0</td>\n",
              "      <td>16</td>\n",
              "      <td>1</td>\n",
              "      <td>['mom with \"thyroid disease']</td>\n",
              "      <td>['668 693']</td>\n",
              "      <td>Family-history-of-thyroid-disorder</td>\n",
              "      <td>HPI: 17yo M presents with palpitations. Patien...</td>\n",
              "      <td>29</td>\n",
              "    </tr>\n",
              "    <tr>\n",
              "      <th>2</th>\n",
              "      <td>00016_002</td>\n",
              "      <td>0</td>\n",
              "      <td>16</td>\n",
              "      <td>2</td>\n",
              "      <td>['chest pressure']</td>\n",
              "      <td>['203 217']</td>\n",
              "      <td>Chest-pressure</td>\n",
              "      <td>HPI: 17yo M presents with palpitations. Patien...</td>\n",
              "      <td>18</td>\n",
              "    </tr>\n",
              "    <tr>\n",
              "      <th>3</th>\n",
              "      <td>00016_003</td>\n",
              "      <td>0</td>\n",
              "      <td>16</td>\n",
              "      <td>3</td>\n",
              "      <td>['intermittent episodes', 'episode']</td>\n",
              "      <td>['70 91', '176 183']</td>\n",
              "      <td>Intermittent-symptoms</td>\n",
              "      <td>HPI: 17yo M presents with palpitations. Patien...</td>\n",
              "      <td>36</td>\n",
              "    </tr>\n",
              "    <tr>\n",
              "      <th>4</th>\n",
              "      <td>00016_004</td>\n",
              "      <td>0</td>\n",
              "      <td>16</td>\n",
              "      <td>4</td>\n",
              "      <td>['felt as if he were going to pass out']</td>\n",
              "      <td>['222 258']</td>\n",
              "      <td>Lightheaded</td>\n",
              "      <td>HPI: 17yo M presents with palpitations. Patien...</td>\n",
              "      <td>40</td>\n",
              "    </tr>\n",
              "  </tbody>\n",
              "</table>\n",
              "</div>\n",
              "      <button class=\"colab-df-convert\" onclick=\"convertToInteractive('df-abbb345b-01ca-4fd3-8c46-5fd23e62309d')\"\n",
              "              title=\"Convert this dataframe to an interactive table.\"\n",
              "              style=\"display:none;\">\n",
              "        \n",
              "  <svg xmlns=\"http://www.w3.org/2000/svg\" height=\"24px\"viewBox=\"0 0 24 24\"\n",
              "       width=\"24px\">\n",
              "    <path d=\"M0 0h24v24H0V0z\" fill=\"none\"/>\n",
              "    <path d=\"M18.56 5.44l.94 2.06.94-2.06 2.06-.94-2.06-.94-.94-2.06-.94 2.06-2.06.94zm-11 1L8.5 8.5l.94-2.06 2.06-.94-2.06-.94L8.5 2.5l-.94 2.06-2.06.94zm10 10l.94 2.06.94-2.06 2.06-.94-2.06-.94-.94-2.06-.94 2.06-2.06.94z\"/><path d=\"M17.41 7.96l-1.37-1.37c-.4-.4-.92-.59-1.43-.59-.52 0-1.04.2-1.43.59L10.3 9.45l-7.72 7.72c-.78.78-.78 2.05 0 2.83L4 21.41c.39.39.9.59 1.41.59.51 0 1.02-.2 1.41-.59l7.78-7.78 2.81-2.81c.8-.78.8-2.07 0-2.86zM5.41 20L4 18.59l7.72-7.72 1.47 1.35L5.41 20z\"/>\n",
              "  </svg>\n",
              "      </button>\n",
              "      \n",
              "  <style>\n",
              "    .colab-df-container {\n",
              "      display:flex;\n",
              "      flex-wrap:wrap;\n",
              "      gap: 12px;\n",
              "    }\n",
              "\n",
              "    .colab-df-convert {\n",
              "      background-color: #E8F0FE;\n",
              "      border: none;\n",
              "      border-radius: 50%;\n",
              "      cursor: pointer;\n",
              "      display: none;\n",
              "      fill: #1967D2;\n",
              "      height: 32px;\n",
              "      padding: 0 0 0 0;\n",
              "      width: 32px;\n",
              "    }\n",
              "\n",
              "    .colab-df-convert:hover {\n",
              "      background-color: #E2EBFA;\n",
              "      box-shadow: 0px 1px 2px rgba(60, 64, 67, 0.3), 0px 1px 3px 1px rgba(60, 64, 67, 0.15);\n",
              "      fill: #174EA6;\n",
              "    }\n",
              "\n",
              "    [theme=dark] .colab-df-convert {\n",
              "      background-color: #3B4455;\n",
              "      fill: #D2E3FC;\n",
              "    }\n",
              "\n",
              "    [theme=dark] .colab-df-convert:hover {\n",
              "      background-color: #434B5C;\n",
              "      box-shadow: 0px 1px 3px 1px rgba(0, 0, 0, 0.15);\n",
              "      filter: drop-shadow(0px 1px 2px rgba(0, 0, 0, 0.3));\n",
              "      fill: #FFFFFF;\n",
              "    }\n",
              "  </style>\n",
              "\n",
              "      <script>\n",
              "        const buttonEl =\n",
              "          document.querySelector('#df-abbb345b-01ca-4fd3-8c46-5fd23e62309d button.colab-df-convert');\n",
              "        buttonEl.style.display =\n",
              "          google.colab.kernel.accessAllowed ? 'block' : 'none';\n",
              "\n",
              "        async function convertToInteractive(key) {\n",
              "          const element = document.querySelector('#df-abbb345b-01ca-4fd3-8c46-5fd23e62309d');\n",
              "          const dataTable =\n",
              "            await google.colab.kernel.invokeFunction('convertToInteractive',\n",
              "                                                     [key], {});\n",
              "          if (!dataTable) return;\n",
              "\n",
              "          const docLinkHtml = 'Like what you see? Visit the ' +\n",
              "            '<a target=\"_blank\" href=https://colab.research.google.com/notebooks/data_table.ipynb>data table notebook</a>'\n",
              "            + ' to learn more about interactive tables.';\n",
              "          element.innerHTML = '';\n",
              "          dataTable['output_type'] = 'display_data';\n",
              "          await google.colab.output.renderOutput(dataTable, element);\n",
              "          const docLink = document.createElement('div');\n",
              "          docLink.innerHTML = docLinkHtml;\n",
              "          element.appendChild(docLink);\n",
              "        }\n",
              "      </script>\n",
              "    </div>\n",
              "  </div>\n",
              "  "
            ]
          },
          "metadata": {},
          "execution_count": 19
        }
      ]
    },
    {
      "cell_type": "markdown",
      "source": [
        "## Creating Input Tokens "
      ],
      "metadata": {
        "id": "U0BIyRTmMUaa"
      }
    },
    {
      "cell_type": "code",
      "source": [
        "def create_inputs(pn_history: str, feature_text: str) -> Tuple[np.array]:\n",
        "    tokens = tokenizer(\n",
        "        pn_history,\n",
        "        feature_text,\n",
        "        max_length=SEQUENCE_LENGTH,\n",
        "        padding=\"max_length\",\n",
        "        add_special_tokens=True,\n",
        "    )\n",
        "    \n",
        "    input_ids = tokens['input_ids']\n",
        "    attention_mask = tokens[\"attention_mask\"]\n",
        "    return (np.array(input_ids), np.array(attention_mask))"
      ],
      "metadata": {
        "id": "HeOK87zYfVMS"
      },
      "execution_count": 20,
      "outputs": []
    },
    {
      "cell_type": "markdown",
      "source": [
        "## Decoding Annotation's start and end locations"
      ],
      "metadata": {
        "id": "zO2p5jU_NU1E"
      }
    },
    {
      "cell_type": "code",
      "source": [
        "def decode_location(location: str) -> List[Tuple[int]]:\n",
        "    location = location.replace(\"[\", '')\n",
        "    location = location.replace(\"]\", '')\n",
        "    location = location.replace(\"'\", '')\n",
        "    location = location.replace(\",\", '')\n",
        "    location = location.replace(\";\", ' ')\n",
        "    location = location.split(\" \")\n",
        "    if list(filter(None, location)) == []:\n",
        "        return []\n",
        "    \n",
        "    location = list(map(int, location))\n",
        "    location_tuple_list = []\n",
        "    \n",
        "    for i in range(0, len(location), 2):\n",
        "        x1 = location[i]\n",
        "        x2 = location[i+1]\n",
        "        location_tuple_list.append((x1, x2))\n",
        "    \n",
        "    return location_tuple_list"
      ],
      "metadata": {
        "id": "WBRCHZv7fW2a"
      },
      "execution_count": 21,
      "outputs": []
    },
    {
      "cell_type": "markdown",
      "source": [
        "## Creating Annotation's labels"
      ],
      "metadata": {
        "id": "KSoH7jarNbIt"
      }
    },
    {
      "cell_type": "code",
      "source": [
        "def create_labels(pn_history, annotation_length, location_list):\n",
        "    tokenized = tokenizer(\n",
        "        pn_history,\n",
        "        add_special_tokens=True,\n",
        "        max_length=SEQUENCE_LENGTH,\n",
        "        padding=\"max_length\",\n",
        "        return_offsets_mapping=True\n",
        "    )\n",
        "    \n",
        "    offset_mapping = tokenized[\"offset_mapping\"]\n",
        "    label = np.zeros(len(offset_mapping))\n",
        "    if annotation_length != 0:\n",
        "        locations = decode_location(location_list)\n",
        "        for location in locations:\n",
        "            start_idx, end_idx = -1, -1\n",
        "            start, end = location\n",
        "            for idx in range(len(offset_mapping)):\n",
        "                if (start_idx == -1) & (start < offset_mapping[idx][0]):\n",
        "                    start_idx = idx - 1\n",
        "                if (end_idx == -1) & (end <= offset_mapping[idx][1]):\n",
        "                    end_idx = idx + 1\n",
        "            if start_idx == -1:\n",
        "                start_idx = end_idx\n",
        "            if (start_idx != -1) & (end_idx != -1):\n",
        "                label[start_idx:end_idx] = 1\n",
        "            \n",
        "    return np.array(label)"
      ],
      "metadata": {
        "id": "bETInPzCfYux"
      },
      "execution_count": 22,
      "outputs": []
    },
    {
      "cell_type": "markdown",
      "source": [
        "## Splitting Dataset into Train and Test"
      ],
      "metadata": {
        "id": "7o0oEjCJNgM8"
      }
    },
    {
      "cell_type": "code",
      "source": [
        "train, valid = train_test_split(\n",
        "    train[['pn_history', 'feature_text','annotation_length', 'location']],\n",
        "    test_size=0.2\n",
        ")"
      ],
      "metadata": {
        "id": "xv-yAB8Vfi_J"
      },
      "execution_count": 23,
      "outputs": []
    },
    {
      "cell_type": "markdown",
      "source": [
        "## Getting the Dataset into X and y format"
      ],
      "metadata": {
        "id": "FfLbCumMNnsd"
      }
    },
    {
      "cell_type": "code",
      "source": [
        "def get_dataset_generator(dataframe: pd.DataFrame):\n",
        "    pn_history = dataframe[\"pn_history\"].values\n",
        "    feature_text = dataframe[\"feature_text\"].values\n",
        "    annotation_length = dataframe['annotation_length'].values\n",
        "    location = dataframe['location'].values\n",
        "    \n",
        "    for i in range(len(dataframe)):\n",
        "        inputs, masks = create_inputs(pn_history[i], feature_text[i])\n",
        "        labels = create_labels(pn_history[i], annotation_length[i], location[i])\n",
        "        yield (inputs, masks), labels"
      ],
      "metadata": {
        "id": "lEV8SR_QfkPS"
      },
      "execution_count": 24,
      "outputs": []
    },
    {
      "cell_type": "markdown",
      "source": [
        "## Dataloader for Transformer"
      ],
      "metadata": {
        "id": "eNrV-fYCNvu_"
      }
    },
    {
      "cell_type": "code",
      "source": [
        "def get_dataloader(dataset_generator) -> tf.data.Dataset:\n",
        "    dataloader = tf.data.Dataset.from_generator(\n",
        "        dataset_generator,\n",
        "        output_signature=(\n",
        "            (\n",
        "                tf.TensorSpec(shape=(SEQUENCE_LENGTH,), dtype=tf.dtypes.int32, name=\"inputs\"),\n",
        "                tf.TensorSpec(shape=(SEQUENCE_LENGTH,), dtype=tf.dtypes.int32, name=\"attention_masks\"),\n",
        "            ),\n",
        "            tf.TensorSpec(shape=(SEQUENCE_LENGTH,), dtype=tf.dtypes.int32, name=\"labels\"),\n",
        "        )\n",
        "    )\n",
        "\n",
        "    dataloader = dataloader.batch(BATCH_SIZE)\n",
        "    return dataloader.prefetch(AUTOTUNE)"
      ],
      "metadata": {
        "id": "FffBR7Fefl1F"
      },
      "execution_count": 25,
      "outputs": []
    },
    {
      "cell_type": "markdown",
      "source": [
        "# Training the model\n"
      ],
      "metadata": {
        "id": "XCW6qTMWNz4z"
      }
    },
    {
      "cell_type": "markdown",
      "source": [
        "\n",
        "## Assigning Early Stopping "
      ],
      "metadata": {
        "id": "L5jECiU0N-DE"
      }
    },
    {
      "cell_type": "code",
      "source": [
        "es = tf.keras.callbacks.EarlyStopping(\n",
        "    monitor='val_loss', \n",
        "    min_delta=1e-5, \n",
        "    patience=4, \n",
        "    verbose=1,\n",
        "    mode='auto', \n",
        "    restore_best_weights=True\n",
        ")\n",
        "\n",
        "rlr = tf.keras.callbacks.ReduceLROnPlateau(\n",
        "    monitor='val_loss', \n",
        "    factor=1e-5, \n",
        "    patience=2, \n",
        "    mode='auto', \n",
        "    min_delta=0.001\n",
        ")"
      ],
      "metadata": {
        "id": "1Y1C-IkCfnrn"
      },
      "execution_count": 26,
      "outputs": []
    },
    {
      "cell_type": "markdown",
      "source": [
        "## Custom F1 Score Evaluation Metric"
      ],
      "metadata": {
        "id": "-hIsToN8N_Bs"
      }
    },
    {
      "cell_type": "code",
      "source": [
        "class F1Score(tf.keras.metrics.Metric):\n",
        "    def __init__(self, name='f1', **kwargs):\n",
        "        super(F1Score, self).__init__(name=name, **kwargs)\n",
        "        self.f1 = tfa.metrics.F1Score(num_classes=2, average='micro', threshold=0.50)\n",
        "\n",
        "    def update_state(self, y_true, y_pred, sample_weight=None):\n",
        "        y_true = tf.reshape(y_true, (-1, SEQUENCE_LENGTH))\n",
        "        y_pred = tf.reshape(y_pred, (-1, SEQUENCE_LENGTH))\n",
        "        self.f1.update_state(y_true, y_pred)\n",
        "        \n",
        "    def reset_state(self):\n",
        "        self.f1.reset_state()\n",
        "    \n",
        "    def result(self):\n",
        "        return self.f1.result()"
      ],
      "metadata": {
        "id": "vV20fhgJfpV2"
      },
      "execution_count": 27,
      "outputs": []
    },
    {
      "cell_type": "markdown",
      "source": [
        "## Assigning Evaluation Metric, Callbacks, Optimizer and loss function"
      ],
      "metadata": {
        "id": "4A2wpbV3OD5J"
      }
    },
    {
      "cell_type": "code",
      "source": [
        "metrics = [\n",
        "    F1Score(), \n",
        "    tf.keras.metrics.Recall(thresholds=[0.5]), \n",
        "    tf.keras.metrics.Precision(thresholds=[0.5])\n",
        "]\n",
        "\n",
        "callbacks = [rlr, es]\n",
        "optimizer = tf.keras.optimizers.Adam(LEARNING_RATE, clipnorm=CLIP_NORM)\n",
        "loss = tf.keras.losses.BinaryCrossentropy(reduction=\"none\")"
      ],
      "metadata": {
        "id": "5JGEOJEefrBa"
      },
      "execution_count": 28,
      "outputs": []
    },
    {
      "cell_type": "markdown",
      "source": [
        "## Fitting the model"
      ],
      "metadata": {
        "id": "bEDmdiRdONXi"
      }
    },
    {
      "cell_type": "code",
      "source": [
        "model.compile(\n",
        "    optimizer=optimizer,\n",
        "    loss=loss,\n",
        "    metrics=metrics\n",
        ")\n",
        "\n",
        "history = model.fit(\n",
        "    get_dataloader(lambda: get_dataset_generator(train)), \n",
        "    epochs=EPOCHS,\n",
        "    validation_data=get_dataloader(lambda: get_dataset_generator(valid)),\n",
        "    callbacks=callbacks,\n",
        ")"
      ],
      "metadata": {
        "colab": {
          "base_uri": "https://localhost:8080/"
        },
        "id": "LzI9T6IufsdQ",
        "outputId": "177c28d2-ecfb-499e-8f6f-b8201427618b"
      },
      "execution_count": 29,
      "outputs": [
        {
          "output_type": "stream",
          "name": "stdout",
          "text": [
            "Epoch 1/20\n",
            "WARNING:tensorflow:From /usr/local/lib/python3.7/dist-packages/transformers/models/deberta/modeling_tf_deberta.py:106: Bernoulli.__init__ (from tensorflow.python.ops.distributions.bernoulli) is deprecated and will be removed after 2019-01-01.\n",
            "Instructions for updating:\n",
            "The TensorFlow Distributions library has moved to TensorFlow Probability (https://github.com/tensorflow/probability). You should update all references to use `tfp.distributions` instead of `tf.distributions`.\n",
            "WARNING:tensorflow:From /usr/local/lib/python3.7/dist-packages/tensorflow/python/ops/distributions/bernoulli.py:93: Distribution.__init__ (from tensorflow.python.ops.distributions.distribution) is deprecated and will be removed after 2019-01-01.\n",
            "Instructions for updating:\n",
            "The TensorFlow Distributions library has moved to TensorFlow Probability (https://github.com/tensorflow/probability). You should update all references to use `tfp.distributions` instead of `tf.distributions`.\n",
            "1430/1430 [==============================] - 2891s 2s/step - loss: 0.0132 - f1: 0.6186 - recall: 0.5444 - precision: 0.7162 - val_loss: 0.0096 - val_f1: 0.7541 - val_recall: 0.8907 - val_precision: 0.6538 - lr: 2.0000e-05\n",
            "Epoch 2/20\n",
            "1430/1430 [==============================] - 2832s 2s/step - loss: 0.0063 - f1: 0.8069 - recall: 0.7797 - precision: 0.8360 - val_loss: 0.0080 - val_f1: 0.7973 - val_recall: 0.9118 - val_precision: 0.7083 - lr: 2.0000e-05\n",
            "Epoch 3/20\n",
            "1430/1430 [==============================] - 2819s 2s/step - loss: 0.0047 - f1: 0.8567 - recall: 0.8461 - precision: 0.8675 - val_loss: 0.0068 - val_f1: 0.8292 - val_recall: 0.9091 - val_precision: 0.7621 - lr: 2.0000e-05\n",
            "Epoch 4/20\n",
            "1430/1430 [==============================] - 2814s 2s/step - loss: 0.0041 - f1: 0.8729 - recall: 0.8661 - precision: 0.8798 - val_loss: 0.0075 - val_f1: 0.8473 - val_recall: 0.8992 - val_precision: 0.8010 - lr: 2.0000e-05\n",
            "Epoch 5/20\n",
            "1430/1430 [==============================] - 2810s 2s/step - loss: 0.0034 - f1: 0.8987 - recall: 0.8984 - precision: 0.8990 - val_loss: 0.0075 - val_f1: 0.8445 - val_recall: 0.8914 - val_precision: 0.8023 - lr: 2.0000e-05\n",
            "Epoch 6/20\n",
            "1430/1430 [==============================] - 2806s 2s/step - loss: 0.0029 - f1: 0.9186 - recall: 0.9472 - precision: 0.8917 - val_loss: 0.0075 - val_f1: 0.8445 - val_recall: 0.8914 - val_precision: 0.8023 - lr: 2.0000e-10\n",
            "Epoch 7/20\n",
            "1430/1430 [==============================] - ETA: 0s - loss: 0.0029 - f1: 0.9169 - recall: 0.9475 - precision: 0.8882Restoring model weights from the end of the best epoch: 3.\n",
            "1430/1430 [==============================] - 2806s 2s/step - loss: 0.0029 - f1: 0.9169 - recall: 0.9475 - precision: 0.8882 - val_loss: 0.0075 - val_f1: 0.8445 - val_recall: 0.8914 - val_precision: 0.8023 - lr: 2.0000e-10\n",
            "Epoch 7: early stopping\n"
          ]
        }
      ]
    },
    {
      "cell_type": "markdown",
      "source": [
        "## Saving the generated Model"
      ],
      "metadata": {
        "id": "Zwv5mZehOPjv"
      }
    },
    {
      "cell_type": "code",
      "source": [
        "model.save_weights(f\"{MODEL_NAME}.h5\")"
      ],
      "metadata": {
        "id": "HGnbOOUFfvDj"
      },
      "execution_count": 30,
      "outputs": []
    },
    {
      "cell_type": "markdown",
      "source": [
        "## Plotting the Precision, Recall and F1 Score"
      ],
      "metadata": {
        "id": "-_HYVeTeOSKw"
      }
    },
    {
      "cell_type": "code",
      "source": [
        "def plot_history():\n",
        "    loss = history.history[\"loss\"]\n",
        "    val_loss = history.history[\"val_loss\"]\n",
        "    \n",
        "    precision = history.history[\"precision\"]\n",
        "    val_precision = history.history[\"val_precision\"]\n",
        "    \n",
        "    recall = history.history[\"recall\"]\n",
        "    val_recall = history.history[\"val_recall\"]\n",
        "    \n",
        "    f1 = history.history[\"f1\"]\n",
        "    val_f1 = history.history[\"val_f1\"]\n",
        "    \n",
        "    fig, ax = plt.subplots(4, figsize=(10,25))\n",
        "    \n",
        "    min_train_loss = min(loss)\n",
        "    min_val_loss = min(val_loss)\n",
        "    \n",
        "    ax[0].plot(loss, label=\"Train loss\")\n",
        "    ax[0].plot(val_loss, label=\"Valid loss\")\n",
        "    ax[0].scatter(y=min_train_loss, x=loss.index(min_train_loss))\n",
        "    ax[0].scatter(y=min_val_loss, x=val_loss.index(min_val_loss))\n",
        "    ax[0].title.set_text('Loss')\n",
        "    ax[0].set_xlabel('Epoch')\n",
        "    ax[0].set_ylabel('Loss value')\n",
        "    ax[0].legend(loc=\"lower left\")\n",
        "\n",
        "    ax[1].plot(precision, label=\"Train precision\")\n",
        "    ax[1].plot(val_precision, label=\"Valid precision\")\n",
        "    ax[1].set_xlabel('Epoch')\n",
        "    ax[1].set_ylabel('Precision value')\n",
        "    ax[1].title.set_text('Precision')\n",
        "    ax[1].legend(loc=\"lower right\")\n",
        "    \n",
        "    ax[2].plot(recall, label=\"Train recall\")    \n",
        "    ax[2].plot(val_recall, label=\"Valid recall\")\n",
        "    ax[2].set_xlabel('Epoch')\n",
        "    ax[2].set_ylabel('Recall value')\n",
        "    ax[2].title.set_text('Recall')\n",
        "    ax[2].legend(loc=\"lower right\")\n",
        "    \n",
        "    ax[3].plot(f1, label=\"Train F1 score\")\n",
        "    ax[3].plot(val_f1, label=\"Valid F1 score\")\n",
        "    ax[3].set_xlabel('Epoch')\n",
        "    ax[3].set_ylabel('F1 score value')\n",
        "    ax[3].title.set_text(\"F1 score\")\n",
        "    ax[3].legend(loc=\"lower right\")\n",
        "    \n",
        "    plt.show()"
      ],
      "metadata": {
        "id": "5NXwjJQNfxYM"
      },
      "execution_count": 31,
      "outputs": []
    },
    {
      "cell_type": "code",
      "source": [
        "plot_history()"
      ],
      "metadata": {
        "colab": {
          "base_uri": "https://localhost:8080/",
          "height": 1000
        },
        "id": "bVCmVp0Lfyst",
        "outputId": "8b9db8f2-64da-474d-dbd2-2b71cdcfa368"
      },
      "execution_count": 32,
      "outputs": [
        {
          "output_type": "display_data",
          "data": {
            "text/plain": [
              "<Figure size 720x1800 with 4 Axes>"
            ],
            "image/png": "[encoded data removed]"
          },
          "metadata": {
            "needs_background": "light"
          }
        }
      ]
    }
  ]
}